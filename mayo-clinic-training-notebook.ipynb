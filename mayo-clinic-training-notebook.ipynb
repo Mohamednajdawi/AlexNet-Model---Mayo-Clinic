{
 "cells": [
  {
   "cell_type": "markdown",
   "id": "70764a7f",
   "metadata": {
    "papermill": {
     "duration": 0.008062,
     "end_time": "2022-08-23T22:47:15.507413",
     "exception": false,
     "start_time": "2022-08-23T22:47:15.499351",
     "status": "completed"
    },
    "tags": []
   },
   "source": [
    "# Library"
   ]
  },
  {
   "cell_type": "code",
   "execution_count": 1,
   "id": "c8397b3d",
   "metadata": {
    "_cell_guid": "b1076dfc-b9ad-4769-8c92-a6c4dae69d19",
    "_uuid": "8f2839f25d086af736a60e9eeb907d3b93b6e0e5",
    "execution": {
     "iopub.execute_input": "2022-08-23T22:47:15.521075Z",
     "iopub.status.busy": "2022-08-23T22:47:15.520605Z",
     "iopub.status.idle": "2022-08-23T22:47:21.262132Z",
     "shell.execute_reply": "2022-08-23T22:47:21.261072Z"
    },
    "papermill": {
     "duration": 5.75135,
     "end_time": "2022-08-23T22:47:21.264724",
     "exception": false,
     "start_time": "2022-08-23T22:47:15.513374",
     "status": "completed"
    },
    "tags": []
   },
   "outputs": [],
   "source": [
    "import sys\n",
    "sys.path.append('../input/pytorch-image-models/pytorch-image-models-master')\n",
    "\n",
    "import IPython.display\n",
    "\n",
    "import os\n",
    "import math\n",
    "import time\n",
    "import PIL\n",
    "import random\n",
    "import shutil\n",
    "from pathlib import Path\n",
    "from contextlib import contextmanager\n",
    "from collections import defaultdict, Counter\n",
    "from PIL import Image\n",
    "from glob import glob\n",
    "import scipy as sp\n",
    "import numpy as np\n",
    "import pandas as pd\n",
    "#import Pyvips\n",
    "\n",
    "from sklearn import preprocessing\n",
    "from sklearn.metrics import roc_auc_score\n",
    "from sklearn.model_selection import StratifiedKFold, GroupKFold, KFold, train_test_split\n",
    "from skimage.filters import sobel\n",
    "from skimage import segmentation\n",
    "from skimage.color import label2rgb\n",
    "from skimage.color import rgb2hed, hed2rgb\n",
    "from skimage.exposure import rescale_intensity\n",
    "from skimage.measure import regionprops, regionprops_table\n",
    "from mpl_toolkits.axes_grid1 import ImageGrid\n",
    "from sklearn.preprocessing import StandardScaler\n",
    "from scipy import ndimage as ndi\n",
    "from matplotlib.patches import Rectangle\n",
    "from pytorch_lightning.callbacks.early_stopping import EarlyStopping\n",
    "\n",
    "\n",
    "\n",
    "import torchvision\n",
    "\n",
    "from tqdm.auto import tqdm\n",
    "from tqdm import trange\n",
    "from time import sleep\n",
    "from functools import partial\n",
    "import tifffile as tiff\n",
    "\n",
    "import cv2 as cv\n",
    "from openslide import OpenSlide\n",
    "import seaborn as sns\n",
    "from matplotlib import pyplot as plt\n",
    "from pprint import pprint\n",
    "\n",
    "import torch\n",
    "import torch.nn as nn\n",
    "import torch.nn.functional as F\n",
    "from torch.optim import Adam, SGD\n",
    "import torchvision.models as models\n",
    "from torch.nn.parameter import Parameter\n",
    "from torch.utils.data import DataLoader, Dataset\n",
    "from torch.optim.lr_scheduler import CosineAnnealingWarmRestarts, CosineAnnealingLR, ReduceLROnPlateau\n",
    "import torchvision.transforms as transforms\n",
    "import torch.optim as optim\n",
    "import gc\n",
    "import torchvision.models as models\n",
    "import copy\n",
    "\n",
    "\n",
    "OUTPUT_DIR = './'\n",
    "if not os.path.exists(OUTPUT_DIR):\n",
    "    os.makedirs(OUTPUT_DIR)\n",
    "\n",
    "from torch.cuda.amp import autocast, GradScaler\n",
    "Image.MAX_IMAGE_PIXELS = None\n",
    "import warnings\n",
    "warnings.filterwarnings('ignore')\n",
    "\n",
    "device = torch.device('cuda' if torch.cuda.is_available() else 'cpu')\n"
   ]
  },
  {
   "cell_type": "markdown",
   "id": "ab242bd4",
   "metadata": {
    "papermill": {
     "duration": 0.006105,
     "end_time": "2022-08-23T22:47:21.276897",
     "exception": false,
     "start_time": "2022-08-23T22:47:21.270792",
     "status": "completed"
    },
    "tags": []
   },
   "source": [
    "# Loading data"
   ]
  },
  {
   "cell_type": "code",
   "execution_count": 2,
   "id": "14bba99e",
   "metadata": {
    "execution": {
     "iopub.execute_input": "2022-08-23T22:47:21.290035Z",
     "iopub.status.busy": "2022-08-23T22:47:21.289436Z",
     "iopub.status.idle": "2022-08-23T22:47:21.319939Z",
     "shell.execute_reply": "2022-08-23T22:47:21.318933Z"
    },
    "papermill": {
     "duration": 0.039339,
     "end_time": "2022-08-23T22:47:21.321969",
     "exception": false,
     "start_time": "2022-08-23T22:47:21.282630",
     "status": "completed"
    },
    "tags": []
   },
   "outputs": [],
   "source": [
    "transformed_train = pd.read_csv('../input/mayo-clinic-output/new_train.csv')\n",
    "test = pd.read_csv('../input/mayo-clinic-strip-ai/test.csv')\n",
    "train, valid = train_test_split(transformed_train, test_size=0.2)\n",
    "classes_name = [\"LAA\",\"CE\"]\n",
    "\n"
   ]
  },
  {
   "cell_type": "markdown",
   "id": "9c612240",
   "metadata": {
    "papermill": {
     "duration": 0.005613,
     "end_time": "2022-08-23T22:47:21.333682",
     "exception": false,
     "start_time": "2022-08-23T22:47:21.328069",
     "status": "completed"
    },
    "tags": []
   },
   "source": [
    "# Test Transformation "
   ]
  },
  {
   "cell_type": "code",
   "execution_count": 3,
   "id": "21c3bf92",
   "metadata": {
    "execution": {
     "iopub.execute_input": "2022-08-23T22:47:21.346979Z",
     "iopub.status.busy": "2022-08-23T22:47:21.346128Z",
     "iopub.status.idle": "2022-08-23T22:47:21.351943Z",
     "shell.execute_reply": "2022-08-23T22:47:21.351136Z"
    },
    "papermill": {
     "duration": 0.014245,
     "end_time": "2022-08-23T22:47:21.353852",
     "exception": false,
     "start_time": "2022-08-23T22:47:21.339607",
     "status": "completed"
    },
    "tags": []
   },
   "outputs": [],
   "source": [
    "def rezie_image(image):\n",
    "    resized_image = cv.resize(image,(int(image.shape[1]/100),int(image.shape[0]/100)),interpolation= cv.INTER_LINEAR)\n",
    "    return resized_image\n"
   ]
  },
  {
   "cell_type": "code",
   "execution_count": 4,
   "id": "a0e54440",
   "metadata": {
    "execution": {
     "iopub.execute_input": "2022-08-23T22:47:21.367066Z",
     "iopub.status.busy": "2022-08-23T22:47:21.366175Z",
     "iopub.status.idle": "2022-08-23T22:47:21.371139Z",
     "shell.execute_reply": "2022-08-23T22:47:21.370345Z"
    },
    "papermill": {
     "duration": 0.013558,
     "end_time": "2022-08-23T22:47:21.373191",
     "exception": false,
     "start_time": "2022-08-23T22:47:21.359633",
     "status": "completed"
    },
    "tags": []
   },
   "outputs": [],
   "source": [
    "def grey_resize(image):\n",
    "    gray_resized_image = cv.cvtColor(image, cv.COLOR_RGB2GRAY)    \n",
    "    return gray_resized_image\n"
   ]
  },
  {
   "cell_type": "code",
   "execution_count": 5,
   "id": "6073b1b5",
   "metadata": {
    "execution": {
     "iopub.execute_input": "2022-08-23T22:47:21.387178Z",
     "iopub.status.busy": "2022-08-23T22:47:21.386893Z",
     "iopub.status.idle": "2022-08-23T22:47:21.392298Z",
     "shell.execute_reply": "2022-08-23T22:47:21.391351Z"
    },
    "papermill": {
     "duration": 0.014999,
     "end_time": "2022-08-23T22:47:21.394214",
     "exception": false,
     "start_time": "2022-08-23T22:47:21.379215",
     "status": "completed"
    },
    "tags": []
   },
   "outputs": [],
   "source": [
    "def labeled_segment(grey_resized_image):\n",
    "    elevation_map = sobel(grey_resized_image)\n",
    "    markers = np.zeros_like(grey_resized_image)\n",
    "    markers[grey_resized_image >= grey_resized_image.mean()] = 1\n",
    "    markers[grey_resized_image < grey_resized_image.mean()] = 2\n",
    "    segmented_img = segmentation.watershed(elevation_map, markers)\n",
    "    filled_segments = ndi.binary_fill_holes(segmented_img - 1)\n",
    "    labeled_segments, _ = ndi.label(filled_segments)\n",
    "    return labeled_segments\n"
   ]
  },
  {
   "cell_type": "code",
   "execution_count": 6,
   "id": "bde80c07",
   "metadata": {
    "execution": {
     "iopub.execute_input": "2022-08-23T22:47:21.407420Z",
     "iopub.status.busy": "2022-08-23T22:47:21.407139Z",
     "iopub.status.idle": "2022-08-23T22:47:21.411941Z",
     "shell.execute_reply": "2022-08-23T22:47:21.411071Z"
    },
    "papermill": {
     "duration": 0.013818,
     "end_time": "2022-08-23T22:47:21.413950",
     "exception": false,
     "start_time": "2022-08-23T22:47:21.400132",
     "status": "completed"
    },
    "tags": []
   },
   "outputs": [],
   "source": [
    "def plot_labeled_segments(labeled_segments, resized_gray_img):\n",
    "    image_label_overlay = label2rgb(labeled_segments, image=resized_gray_img, bg_label=0)\n",
    "    fig, ax = plt.subplots(figsize=(10, 8))\n",
    "    ax.imshow(image_label_overlay, cmap=plt.cm.gray)\n",
    "    ax.set_title('segmentation')\n",
    "    ax.axis('off')\n"
   ]
  },
  {
   "cell_type": "code",
   "execution_count": 7,
   "id": "c5d06c65",
   "metadata": {
    "execution": {
     "iopub.execute_input": "2022-08-23T22:47:21.426654Z",
     "iopub.status.busy": "2022-08-23T22:47:21.426393Z",
     "iopub.status.idle": "2022-08-23T22:47:21.433186Z",
     "shell.execute_reply": "2022-08-23T22:47:21.432192Z"
    },
    "papermill": {
     "duration": 0.015605,
     "end_time": "2022-08-23T22:47:21.435279",
     "exception": false,
     "start_time": "2022-08-23T22:47:21.419674",
     "status": "completed"
    },
    "tags": []
   },
   "outputs": [],
   "source": [
    "def get_object_coordinates(labeled_segments):\n",
    "    properties =['area','bbox','convex_area','bbox_area', 'major_axis_length', 'minor_axis_length', 'eccentricity']\n",
    "    df = pd.DataFrame(regionprops_table(labeled_segments, properties=properties))\n",
    "    standard_scaler = StandardScaler()\n",
    "    scaled_area = standard_scaler.fit_transform(df.area.values.reshape(-1,1))\n",
    "    df['scaled_area'] = scaled_area\n",
    "    df.sort_values(by=\"scaled_area\", ascending=False, inplace=True)\n",
    "    objects = df[df['scaled_area']>=.75]\n",
    "    object_coordinates = [(row['bbox-0'],row['bbox-1'],row['bbox-2'],row['bbox-3'] )for index, row in objects.iterrows()]\n",
    "    return object_coordinates\n"
   ]
  },
  {
   "cell_type": "code",
   "execution_count": 8,
   "id": "1d0fadd0",
   "metadata": {
    "execution": {
     "iopub.execute_input": "2022-08-23T22:47:21.448045Z",
     "iopub.status.busy": "2022-08-23T22:47:21.447609Z",
     "iopub.status.idle": "2022-08-23T22:47:21.452918Z",
     "shell.execute_reply": "2022-08-23T22:47:21.451974Z"
    },
    "papermill": {
     "duration": 0.014016,
     "end_time": "2022-08-23T22:47:21.454973",
     "exception": false,
     "start_time": "2022-08-23T22:47:21.440957",
     "status": "completed"
    },
    "tags": []
   },
   "outputs": [],
   "source": [
    "def plot_object_coordinates(object_coordinates, resized_image):\n",
    "    fig, ax = plt.subplots(1,1, figsize=(18, 16), dpi = 80)\n",
    "    for blob in object_coordinates:\n",
    "        width = blob[3] - blob[1]\n",
    "        height = blob[2] - blob[0]\n",
    "        patch = Rectangle((blob[1],blob[0]), width, height, edgecolor='r', facecolor='none')\n"
   ]
  },
  {
   "cell_type": "code",
   "execution_count": 9,
   "id": "9db87846",
   "metadata": {
    "execution": {
     "iopub.execute_input": "2022-08-23T22:47:21.468023Z",
     "iopub.status.busy": "2022-08-23T22:47:21.467199Z",
     "iopub.status.idle": "2022-08-23T22:47:21.473641Z",
     "shell.execute_reply": "2022-08-23T22:47:21.472825Z"
    },
    "papermill": {
     "duration": 0.014901,
     "end_time": "2022-08-23T22:47:21.475563",
     "exception": false,
     "start_time": "2022-08-23T22:47:21.460662",
     "status": "completed"
    },
    "tags": []
   },
   "outputs": [],
   "source": [
    "def save_objects(object_coordinates, image, image_name, count):\n",
    "    plt.figure(figsize=(10,18))\n",
    "    for i in range(len(object_coordinates)):\n",
    "        coordinates = object_coordinates[i]\n",
    "        object_image = image[int(coordinates[0]):int(coordinates[2]), int(coordinates[1]):int(coordinates[3])]\n",
    "        image_new_name = image_name + \"_\" + str(i)\n",
    "        new_test[\"image_name\"].append(image_new_name)\n",
    "        new_test[\"image_count\"].append(count)\n",
    "        cv.imwrite(os.path.join(\"./\", f\"{image_new_name}.jpg\"), object_image)\n"
   ]
  },
  {
   "cell_type": "code",
   "execution_count": 10,
   "id": "07c32e65",
   "metadata": {
    "execution": {
     "iopub.execute_input": "2022-08-23T22:47:21.487951Z",
     "iopub.status.busy": "2022-08-23T22:47:21.487695Z",
     "iopub.status.idle": "2022-08-23T22:48:33.401411Z",
     "shell.execute_reply": "2022-08-23T22:48:33.400493Z"
    },
    "papermill": {
     "duration": 71.927062,
     "end_time": "2022-08-23T22:48:33.408340",
     "exception": false,
     "start_time": "2022-08-23T22:47:21.481278",
     "status": "completed"
    },
    "tags": []
   },
   "outputs": [
    {
     "data": {
      "text/plain": [
       "<Figure size 720x1296 with 0 Axes>"
      ]
     },
     "metadata": {},
     "output_type": "display_data"
    },
    {
     "data": {
      "text/plain": [
       "<Figure size 720x1296 with 0 Axes>"
      ]
     },
     "metadata": {},
     "output_type": "display_data"
    },
    {
     "data": {
      "text/plain": [
       "<Figure size 720x1296 with 0 Axes>"
      ]
     },
     "metadata": {},
     "output_type": "display_data"
    },
    {
     "data": {
      "text/plain": [
       "<Figure size 720x1296 with 0 Axes>"
      ]
     },
     "metadata": {},
     "output_type": "display_data"
    }
   ],
   "source": [
    "test_path = \"../input/mayo-clinic-strip-ai/test\"\n",
    "Image_names = test['image_id'].values\n",
    "new_test={\"image_count\":[],\"image_name\":[]}\n",
    "count = 1\n",
    "scale = 4\n",
    "for image_name in Image_names:\n",
    "    image = tiff.imread(os.path.join(test_path, f\"{image_name}.tif\"))\n",
    "    resized_image=rezie_image(image)\n",
    "    del image\n",
    "    gc.collect()\n",
    "    grey_resized_image = grey_resize(resized_image)\n",
    "    labeled_segments = labeled_segment(grey_resized_image)\n",
    "    object_coordinates = get_object_coordinates(labeled_segments)\n",
    "    save_objects(object_coordinates, resized_image, image_name,count)\n",
    "    \n",
    "new_test=pd.DataFrame.from_dict(new_test)\n"
   ]
  },
  {
   "cell_type": "markdown",
   "id": "ef13777e",
   "metadata": {
    "papermill": {
     "duration": 0.007007,
     "end_time": "2022-08-23T22:48:33.422140",
     "exception": false,
     "start_time": "2022-08-23T22:48:33.415133",
     "status": "completed"
    },
    "tags": []
   },
   "source": [
    "# Data Loader"
   ]
  },
  {
   "cell_type": "code",
   "execution_count": 11,
   "id": "15f7f565",
   "metadata": {
    "execution": {
     "iopub.execute_input": "2022-08-23T22:48:33.435655Z",
     "iopub.status.busy": "2022-08-23T22:48:33.435349Z",
     "iopub.status.idle": "2022-08-23T22:48:33.442989Z",
     "shell.execute_reply": "2022-08-23T22:48:33.441977Z"
    },
    "papermill": {
     "duration": 0.016595,
     "end_time": "2022-08-23T22:48:33.444961",
     "exception": false,
     "start_time": "2022-08-23T22:48:33.428366",
     "status": "completed"
    },
    "tags": []
   },
   "outputs": [],
   "source": [
    "class TrainDataset(Dataset):\n",
    "    def __init__(self, path, df,phase, transform=None):\n",
    "        self.df = df\n",
    "        self.path = path\n",
    "        self.Image_names = df['image_name'].values\n",
    "        self.phase = phase\n",
    "        if phase ==\"train\":\n",
    "            self.labels = df['label'].values\n",
    "        self.transform = transform\n",
    "        \n",
    "    def __len__(self):\n",
    "        return len(self.df)\n",
    "\n",
    "    def __getitem__(self, idx):\n",
    "        file_name = self.Image_names[idx]\n",
    "        img= Image.open(os.path.join(self.path, f\"{file_name}.jpg\"))\n",
    "        if self.transform:\n",
    "            image=self.transform(img)\n",
    "        if self.phase ==\"train\":\n",
    "            label = self.labels[idx]\n",
    "            return image, torch.tensor(label), file_name\n",
    "        else:\n",
    "            return image, file_name\n",
    "        "
   ]
  },
  {
   "cell_type": "markdown",
   "id": "d7130b56",
   "metadata": {
    "papermill": {
     "duration": 0.005886,
     "end_time": "2022-08-23T22:48:33.457002",
     "exception": false,
     "start_time": "2022-08-23T22:48:33.451116",
     "status": "completed"
    },
    "tags": []
   },
   "source": [
    "# Transforms"
   ]
  },
  {
   "cell_type": "code",
   "execution_count": 12,
   "id": "dd177393",
   "metadata": {
    "execution": {
     "iopub.execute_input": "2022-08-23T22:48:33.470709Z",
     "iopub.status.busy": "2022-08-23T22:48:33.469946Z",
     "iopub.status.idle": "2022-08-23T22:48:33.479648Z",
     "shell.execute_reply": "2022-08-23T22:48:33.478799Z"
    },
    "papermill": {
     "duration": 0.018729,
     "end_time": "2022-08-23T22:48:33.481767",
     "exception": false,
     "start_time": "2022-08-23T22:48:33.463038",
     "status": "completed"
    },
    "tags": []
   },
   "outputs": [],
   "source": [
    "batch_size=64\n",
    "data_transform = transforms.Compose([\n",
    "        transforms.Resize((256,256)),\n",
    "        transforms.ToTensor(), transforms.RandomHorizontalFlip(),\n",
    "        transforms.Normalize(mean=[0.485, 0.456, 0.406],\n",
    "                             std=[0.229, 0.224, 0.225])\n",
    "    ])\n",
    "train_dataset = TrainDataset(\"../input/mayo-clinic-output/\", train,phase=\"train\", transform = data_transform)\n",
    "valid_dataset = TrainDataset(\"../input/mayo-clinic-output/\", valid,phase=\"train\", transform = data_transform)\n",
    "test_dataset = TrainDataset(\"./\", new_test,phase=\"test\", transform = data_transform)\n",
    "\n",
    "train_dl = torch.utils.data.DataLoader(train_dataset,\n",
    "                                             batch_size=batch_size, shuffle=True,\n",
    "                                             num_workers=0)\n",
    "valid_dl = torch.utils.data.DataLoader(valid_dataset,\n",
    "                                             batch_size=batch_size, shuffle=True,\n",
    "                                             num_workers=0)\n",
    "test_dl = torch.utils.data.DataLoader(test_dataset,\n",
    "                                             batch_size=1, shuffle=True,\n",
    "                                             num_workers=0)\n"
   ]
  },
  {
   "cell_type": "code",
   "execution_count": 13,
   "id": "f13dd52c",
   "metadata": {
    "execution": {
     "iopub.execute_input": "2022-08-23T22:48:33.495995Z",
     "iopub.status.busy": "2022-08-23T22:48:33.495247Z",
     "iopub.status.idle": "2022-08-23T22:48:33.501197Z",
     "shell.execute_reply": "2022-08-23T22:48:33.500338Z"
    },
    "papermill": {
     "duration": 0.01538,
     "end_time": "2022-08-23T22:48:33.503434",
     "exception": false,
     "start_time": "2022-08-23T22:48:33.488054",
     "status": "completed"
    },
    "tags": []
   },
   "outputs": [],
   "source": [
    "def imshow(axis, inp):\n",
    "    \"\"\"Denormalize and show\"\"\"\n",
    "    inp = inp.numpy().transpose((1, 2, 0))\n",
    "    mean = np.array([0.485, 0.456, 0.406])\n",
    "    std = np.array([0.229, 0.224, 0.225])\n",
    "    inp = std * inp + mean\n",
    "    axis.imshow(inp)\n"
   ]
  },
  {
   "cell_type": "markdown",
   "id": "0fbcb263",
   "metadata": {
    "papermill": {
     "duration": 0.005813,
     "end_time": "2022-08-23T22:48:33.515746",
     "exception": false,
     "start_time": "2022-08-23T22:48:33.509933",
     "status": "completed"
    },
    "tags": []
   },
   "source": [
    "# PreTrained Model"
   ]
  },
  {
   "cell_type": "code",
   "execution_count": 14,
   "id": "b1e993d6",
   "metadata": {
    "execution": {
     "iopub.execute_input": "2022-08-23T22:48:33.530299Z",
     "iopub.status.busy": "2022-08-23T22:48:33.528972Z",
     "iopub.status.idle": "2022-08-23T22:48:38.282202Z",
     "shell.execute_reply": "2022-08-23T22:48:38.281246Z"
    },
    "papermill": {
     "duration": 4.762878,
     "end_time": "2022-08-23T22:48:38.284712",
     "exception": false,
     "start_time": "2022-08-23T22:48:33.521834",
     "status": "completed"
    },
    "tags": []
   },
   "outputs": [],
   "source": [
    "use_gpu = torch.cuda.is_available()\n",
    "model_ft = torchvision.models.resnet50(pretrained=False)\n",
    "model_ft.load_state_dict(torch.load(\"../input/pretrained-model-weights-pytorch/resnet50-19c8e357.pth\"))\n",
    "#model_ft = models.resnet50(pretrained=True)\n",
    "num_ftrs = model_ft.fc.in_features\n",
    "model_ft.fc = nn.Linear(num_ftrs, 2)\n",
    "model_ft=model_ft.to(device)\n",
    "\n",
    "criterion = nn.CrossEntropyLoss()\n",
    "optimizer = optim.SGD(model_ft.parameters(), lr=0.01, momentum=0.9)\n",
    "exp_lr_scheduler = torch.optim.lr_scheduler.StepLR(optimizer, step_size=7, gamma=0.1)\n",
    "\n"
   ]
  },
  {
   "cell_type": "markdown",
   "id": "ddc1b505",
   "metadata": {
    "papermill": {
     "duration": 0.006248,
     "end_time": "2022-08-23T22:48:38.297574",
     "exception": false,
     "start_time": "2022-08-23T22:48:38.291326",
     "status": "completed"
    },
    "tags": []
   },
   "source": [
    "# Training"
   ]
  },
  {
   "cell_type": "code",
   "execution_count": 15,
   "id": "39cbccb9",
   "metadata": {
    "execution": {
     "iopub.execute_input": "2022-08-23T22:48:38.311912Z",
     "iopub.status.busy": "2022-08-23T22:48:38.311609Z",
     "iopub.status.idle": "2022-08-23T22:48:38.323144Z",
     "shell.execute_reply": "2022-08-23T22:48:38.322172Z"
    },
    "papermill": {
     "duration": 0.020913,
     "end_time": "2022-08-23T22:48:38.325010",
     "exception": false,
     "start_time": "2022-08-23T22:48:38.304097",
     "status": "completed"
    },
    "tags": []
   },
   "outputs": [],
   "source": [
    "def train_model(dataloders, model, criterion, optimizer, scheduler, num_epochs=25):\n",
    "    since = time.time()\n",
    "    best_model_wts = model.state_dict()\n",
    "    best_acc = 0.0\n",
    "    dataset_sizes = {'train': len(dataloders['train'].dataset), \n",
    "                     'valid': len(dataloders['valid'].dataset)}\n",
    "\n",
    "    for epoch in range(num_epochs):\n",
    "        for phase in ['train', 'valid']:\n",
    "            if phase == 'train':\n",
    "                scheduler.step()\n",
    "                model.train(True)\n",
    "            else:\n",
    "                model.train(False)\n",
    "\n",
    "            running_loss = 0.0\n",
    "            running_corrects = 0\n",
    "\n",
    "            for inputs, labels, _ in dataloders[phase]:\n",
    "                if use_gpu:\n",
    "                    inputs = inputs.to(device)\n",
    "                    labels = labels.to(device)\n",
    "                    \n",
    "                optimizer.zero_grad()\n",
    "\n",
    "                outputs = model(inputs)\n",
    "                _, preds = torch.max(outputs.data, 1)\n",
    "                loss = criterion(outputs, labels)\n",
    "\n",
    "                if phase == 'train':\n",
    "                    loss.backward()\n",
    "                    optimizer.step()\n",
    "\n",
    "                running_loss += loss.data\n",
    "                running_corrects += torch.sum(preds == labels.data)\n",
    "                del inputs, labels\n",
    "                torch.cuda.empty_cache()\n",
    "                gc.collect()\n",
    "                time.sleep(1)\n",
    "                torch.cuda.empty_cache()\n",
    "                gc.collect()\n",
    "                time.sleep(1)\n",
    "                torch.cuda.empty_cache()\n",
    "                gc.collect()\n",
    "            \n",
    "            if phase == 'train':\n",
    "                train_epoch_loss = running_loss / dataset_sizes[phase]\n",
    "                train_epoch_acc = running_corrects / dataset_sizes[phase]\n",
    "            else:\n",
    "                valid_epoch_loss = running_loss / dataset_sizes[phase]\n",
    "                valid_epoch_acc = running_corrects / dataset_sizes[phase]\n",
    "                \n",
    "            if phase == 'valid' and valid_epoch_acc > best_acc:\n",
    "                best_acc = valid_epoch_acc\n",
    "                best_model_wts = model.state_dict()\n",
    "\n",
    "        print('Epoch [{}/{}] train loss: {:.4f} acc: {:.4f} ' \n",
    "              'valid loss: {:.4f} acc: {:.4f}'.format(\n",
    "                epoch, num_epochs - 1,\n",
    "                train_epoch_loss, train_epoch_acc, \n",
    "                valid_epoch_loss, valid_epoch_acc))\n",
    "            \n",
    "    print('Best val Acc: {:4f}'.format(best_acc))\n",
    "\n",
    "    model.load_state_dict(best_model_wts)\n",
    "    return model"
   ]
  },
  {
   "cell_type": "code",
   "execution_count": 16,
   "id": "3c242d7a",
   "metadata": {
    "execution": {
     "iopub.execute_input": "2022-08-23T22:48:38.340443Z",
     "iopub.status.busy": "2022-08-23T22:48:38.338967Z",
     "iopub.status.idle": "2022-08-24T00:24:28.435834Z",
     "shell.execute_reply": "2022-08-24T00:24:28.434747Z"
    },
    "papermill": {
     "duration": 5750.10626,
     "end_time": "2022-08-24T00:24:28.437924",
     "exception": false,
     "start_time": "2022-08-23T22:48:38.331664",
     "status": "completed"
    },
    "tags": []
   },
   "outputs": [
    {
     "name": "stdout",
     "output_type": "stream",
     "text": [
      "Epoch [0/19] train loss: 0.0104 acc: 0.6578 valid loss: 0.0136 acc: 0.6102\n",
      "Epoch [1/19] train loss: 0.0091 acc: 0.7078 valid loss: 0.0103 acc: 0.6854\n",
      "Epoch [2/19] train loss: 0.0085 acc: 0.7498 valid loss: 0.0091 acc: 0.7543\n",
      "Epoch [3/19] train loss: 0.0075 acc: 0.7688 valid loss: 0.0120 acc: 0.6999\n",
      "Epoch [4/19] train loss: 0.0066 acc: 0.8046 valid loss: 0.0097 acc: 0.7362\n",
      "Epoch [5/19] train loss: 0.0055 acc: 0.8402 valid loss: 0.0091 acc: 0.7407\n",
      "Epoch [6/19] train loss: 0.0030 acc: 0.9232 valid loss: 0.0088 acc: 0.7951\n",
      "Epoch [7/19] train loss: 0.0019 acc: 0.9551 valid loss: 0.0100 acc: 0.7860\n",
      "Epoch [8/19] train loss: 0.0013 acc: 0.9746 valid loss: 0.0103 acc: 0.7851\n",
      "Epoch [9/19] train loss: 0.0009 acc: 0.9848 valid loss: 0.0106 acc: 0.7951\n",
      "Epoch [10/19] train loss: 0.0005 acc: 0.9909 valid loss: 0.0116 acc: 0.7888\n",
      "Epoch [11/19] train loss: 0.0005 acc: 0.9914 valid loss: 0.0122 acc: 0.7924\n",
      "Epoch [12/19] train loss: 0.0003 acc: 0.9952 valid loss: 0.0108 acc: 0.8160\n",
      "Epoch [13/19] train loss: 0.0002 acc: 0.9975 valid loss: 0.0118 acc: 0.8078\n",
      "Epoch [14/19] train loss: 0.0002 acc: 0.9986 valid loss: 0.0116 acc: 0.8114\n",
      "Epoch [15/19] train loss: 0.0002 acc: 0.9982 valid loss: 0.0125 acc: 0.8114\n",
      "Epoch [16/19] train loss: 0.0002 acc: 0.9991 valid loss: 0.0116 acc: 0.8096\n",
      "Epoch [17/19] train loss: 0.0002 acc: 0.9986 valid loss: 0.0119 acc: 0.8105\n",
      "Epoch [18/19] train loss: 0.0001 acc: 0.9991 valid loss: 0.0123 acc: 0.8042\n",
      "Epoch [19/19] train loss: 0.0002 acc: 0.9989 valid loss: 0.0121 acc: 0.8042\n",
      "Best val Acc: 0.815956\n",
      "Training time:  95.834827 minutes\n"
     ]
    }
   ],
   "source": [
    "dloaders = {'train':train_dl, 'valid':valid_dl}\n",
    "start_time = time.time()\n",
    "model = train_model(dloaders, model_ft, criterion, optimizer, exp_lr_scheduler, num_epochs=20)\n",
    "del model_ft\n",
    "torch.cuda.empty_cache()\n",
    "gc.collect()\n",
    "torch.cuda.empty_cache()\n",
    "gc.collect()\n",
    "torch.cuda.empty_cache()\n",
    "gc.collect()\n",
    "\n",
    "print('Training time: {:10f} minutes'.format((time.time()-start_time)/60))"
   ]
  },
  {
   "cell_type": "code",
   "execution_count": 17,
   "id": "ca6a6fc2",
   "metadata": {
    "execution": {
     "iopub.execute_input": "2022-08-24T00:24:28.454542Z",
     "iopub.status.busy": "2022-08-24T00:24:28.453677Z",
     "iopub.status.idle": "2022-08-24T00:24:28.465245Z",
     "shell.execute_reply": "2022-08-24T00:24:28.464270Z"
    },
    "papermill": {
     "duration": 0.021885,
     "end_time": "2022-08-24T00:24:28.467259",
     "exception": false,
     "start_time": "2022-08-24T00:24:28.445374",
     "status": "completed"
    },
    "tags": []
   },
   "outputs": [],
   "source": [
    "def visualize_model(dataloders, model, num_images=25):\n",
    "    cnt = 0\n",
    "    fig = plt.figure(1, figsize=(20, 20))\n",
    "    grid = ImageGrid(fig, 111, nrows_ncols=(5, 5), axes_pad=0.05)\n",
    "    for i, (inputs, labels, file_name) in enumerate(dataloders['valid']):\n",
    "        if use_gpu:\n",
    "            inputs = inputs.to(device)\n",
    "            labels = labels.to(device)\n",
    "        else:\n",
    "            inputs = inputs.to(device)\n",
    "            labels = labels.to(device)\n",
    "\n",
    "        outputs = model(inputs)\n",
    "        _, preds = torch.max(outputs.data, 1)\n",
    "        sm = torch.nn.Softmax()\n",
    "        probabilities = sm(outputs).tolist()\n",
    "        rounded_prob = [np.round(num, 1) for num in probabilities]\n",
    "        for j in range(inputs.size()[0]):\n",
    "            ax = grid[cnt]\n",
    "            imshow(ax, inputs.cpu().data[j])\n",
    "            ax.text(10, 20, 'ID: {} '.format(file_name[j]),color='k', backgroundcolor='w', alpha=0.8,size=\"small\")\n",
    "            ax.text(10, 230, 'Predicted {} || Actual {}'.format(classes_name[preds[j]], classes_name[labels.data[j]]), \n",
    "                    color='k', backgroundcolor='w', alpha=0.8,size=\"small\")\n",
    "            ax.text(10, 245,rounded_prob[j],color='k', backgroundcolor='w', alpha=0.8,size=\"small\")\n",
    "            cnt += 1\n",
    "            if cnt == num_images:\n",
    "                del inputs, labels\n",
    "                torch.cuda.empty_cache()\n",
    "                gc.collect()\n",
    "                return"
   ]
  },
  {
   "cell_type": "code",
   "execution_count": 18,
   "id": "758fe9bc",
   "metadata": {
    "execution": {
     "iopub.execute_input": "2022-08-24T00:24:28.483497Z",
     "iopub.status.busy": "2022-08-24T00:24:28.482881Z",
     "iopub.status.idle": "2022-08-24T00:24:28.487500Z",
     "shell.execute_reply": "2022-08-24T00:24:28.486670Z"
    },
    "papermill": {
     "duration": 0.015001,
     "end_time": "2022-08-24T00:24:28.489455",
     "exception": false,
     "start_time": "2022-08-24T00:24:28.474454",
     "status": "completed"
    },
    "tags": []
   },
   "outputs": [],
   "source": [
    "#visualize_model(dloaders, model)\n"
   ]
  },
  {
   "cell_type": "markdown",
   "id": "cf1d6c32",
   "metadata": {
    "papermill": {
     "duration": 0.006859,
     "end_time": "2022-08-24T00:24:28.503471",
     "exception": false,
     "start_time": "2022-08-24T00:24:28.496612",
     "status": "completed"
    },
    "tags": []
   },
   "source": [
    "# Submission"
   ]
  },
  {
   "cell_type": "code",
   "execution_count": 19,
   "id": "5b84e11f",
   "metadata": {
    "execution": {
     "iopub.execute_input": "2022-08-24T00:24:28.519343Z",
     "iopub.status.busy": "2022-08-24T00:24:28.519045Z",
     "iopub.status.idle": "2022-08-24T00:24:28.528091Z",
     "shell.execute_reply": "2022-08-24T00:24:28.527169Z"
    },
    "papermill": {
     "duration": 0.01955,
     "end_time": "2022-08-24T00:24:28.530101",
     "exception": false,
     "start_time": "2022-08-24T00:24:28.510551",
     "status": "completed"
    },
    "tags": []
   },
   "outputs": [],
   "source": [
    "def submission(dataloders, model):\n",
    "    prob_data = {\"ID\":[],\"prob\":[]}\n",
    "    if dataloders ==dloaders:\n",
    "        dataloders = dataloders['valid']\n",
    "        \n",
    "    for i, (inputs, file_name) in enumerate(dataloders):\n",
    "        if use_gpu:\n",
    "            inputs = inputs.to(device)\n",
    "            \n",
    "        outputs = model(inputs)\n",
    "        _, preds = torch.max(outputs.data, 1)\n",
    "        sm = torch.nn.Softmax()\n",
    "        probabilities = sm(outputs).tolist()\n",
    "        rounded_prob = [np.round(num, 1) for num in probabilities]\n",
    "        \n",
    "        for i in range(inputs.size()[0]):\n",
    "            prob_data[\"ID\"].append(file_name[i])\n",
    "            prob_data[\"prob\"].append(rounded_prob[i])\n",
    "            \n",
    "        del inputs\n",
    "        torch.cuda.empty_cache()\n",
    "        gc.collect()\n",
    "    prob_data= pd.DataFrame.from_dict(prob_data)\n",
    "    prob_data['patient_id'], prob_data['image_nu'],prob_data['split_nu'] = prob_data['ID'].str.split('_').str\n",
    "    prob_data[['LAA','CE']] = pd.DataFrame(prob_data.prob.tolist(), index= prob_data.index)\n",
    "    prob_data_submission = prob_data.drop(['ID', 'prob','image_nu','split_nu'], axis=1)\n",
    "    avg = prob_data_submission.groupby('patient_id',as_index=False).mean()\n",
    "    avg = avg[['patient_id','CE','LAA']]\n",
    "    return avg\n",
    "    "
   ]
  },
  {
   "cell_type": "code",
   "execution_count": 20,
   "id": "9e217216",
   "metadata": {
    "execution": {
     "iopub.execute_input": "2022-08-24T00:24:28.545768Z",
     "iopub.status.busy": "2022-08-24T00:24:28.545501Z",
     "iopub.status.idle": "2022-08-24T00:24:32.887723Z",
     "shell.execute_reply": "2022-08-24T00:24:32.886498Z"
    },
    "papermill": {
     "duration": 4.352677,
     "end_time": "2022-08-24T00:24:32.890160",
     "exception": false,
     "start_time": "2022-08-24T00:24:28.537483",
     "status": "completed"
    },
    "tags": []
   },
   "outputs": [],
   "source": [
    "sub=submission(test_dl, model)\n"
   ]
  },
  {
   "cell_type": "code",
   "execution_count": 21,
   "id": "46662f07",
   "metadata": {
    "execution": {
     "iopub.execute_input": "2022-08-24T00:24:32.907394Z",
     "iopub.status.busy": "2022-08-24T00:24:32.907063Z",
     "iopub.status.idle": "2022-08-24T00:24:32.914109Z",
     "shell.execute_reply": "2022-08-24T00:24:32.913161Z"
    },
    "papermill": {
     "duration": 0.018395,
     "end_time": "2022-08-24T00:24:32.916664",
     "exception": false,
     "start_time": "2022-08-24T00:24:32.898269",
     "status": "completed"
    },
    "tags": []
   },
   "outputs": [],
   "source": [
    "sub.to_csv('submission.csv',index=False)\n"
   ]
  },
  {
   "cell_type": "code",
   "execution_count": 22,
   "id": "1687aec4",
   "metadata": {
    "execution": {
     "iopub.execute_input": "2022-08-24T00:24:32.933020Z",
     "iopub.status.busy": "2022-08-24T00:24:32.932708Z",
     "iopub.status.idle": "2022-08-24T00:24:32.938113Z",
     "shell.execute_reply": "2022-08-24T00:24:32.937218Z"
    },
    "papermill": {
     "duration": 0.016456,
     "end_time": "2022-08-24T00:24:32.940865",
     "exception": false,
     "start_time": "2022-08-24T00:24:32.924409",
     "status": "completed"
    },
    "tags": []
   },
   "outputs": [
    {
     "name": "stdout",
     "output_type": "stream",
     "text": [
      "|===========================================================================|\n",
      "|                  PyTorch CUDA memory summary, device ID 0                 |\n",
      "|---------------------------------------------------------------------------|\n",
      "|            CUDA OOMs: 0            |        cudaMalloc retries: 0         |\n",
      "|===========================================================================|\n",
      "|        Metric         | Cur Usage  | Peak Usage | Tot Alloc  | Tot Freed  |\n",
      "|---------------------------------------------------------------------------|\n",
      "| Allocated memory      |  280135 KB |   13970 MB |   41228 GB |   41228 GB |\n",
      "|       from large pool |  227072 KB |   13917 MB |   41189 GB |   41189 GB |\n",
      "|       from small pool |   53063 KB |     145 MB |      39 GB |      38 GB |\n",
      "|---------------------------------------------------------------------------|\n",
      "| Active memory         |  280135 KB |   13970 MB |   41228 GB |   41228 GB |\n",
      "|       from large pool |  227072 KB |   13917 MB |   41189 GB |   41189 GB |\n",
      "|       from small pool |   53063 KB |     145 MB |      39 GB |      38 GB |\n",
      "|---------------------------------------------------------------------------|\n",
      "| GPU reserved memory   |    1110 MB |   14196 MB |   11987 GB |   11986 GB |\n",
      "|       from large pool |    1010 MB |   14142 MB |   11986 GB |   11985 GB |\n",
      "|       from small pool |     100 MB |     146 MB |       1 GB |       0 GB |\n",
      "|---------------------------------------------------------------------------|\n",
      "| Non-releasable memory |     790 MB |    2627 MB |   12266 GB |   12265 GB |\n",
      "|       from large pool |     788 MB |    2625 MB |   12227 GB |   12226 GB |\n",
      "|       from small pool |       2 MB |       3 MB |      39 GB |      39 GB |\n",
      "|---------------------------------------------------------------------------|\n",
      "| Allocations           |     642    |     976    |    1043 K  |    1043 K  |\n",
      "|       from large pool |      51    |     261    |     618 K  |     618 K  |\n",
      "|       from small pool |     591    |     765    |     424 K  |     424 K  |\n",
      "|---------------------------------------------------------------------------|\n",
      "| Active allocs         |     642    |     976    |    1043 K  |    1043 K  |\n",
      "|       from large pool |      51    |     261    |     618 K  |     618 K  |\n",
      "|       from small pool |     591    |     765    |     424 K  |     424 K  |\n",
      "|---------------------------------------------------------------------------|\n",
      "| GPU reserved segments |      67    |     180    |  111670    |  111603    |\n",
      "|       from large pool |      17    |     153    |  111125    |  111108    |\n",
      "|       from small pool |      50    |      73    |     545    |     495    |\n",
      "|---------------------------------------------------------------------------|\n",
      "| Non-releasable allocs |      21    |      71    |  352175    |  352154    |\n",
      "|       from large pool |      12    |      60    |  195057    |  195045    |\n",
      "|       from small pool |       9    |      13    |  157118    |  157109    |\n",
      "|---------------------------------------------------------------------------|\n",
      "| Oversize allocations  |       0    |       0    |       0    |       0    |\n",
      "|---------------------------------------------------------------------------|\n",
      "| Oversize GPU segments |       0    |       0    |       0    |       0    |\n",
      "|===========================================================================|\n",
      "\n"
     ]
    }
   ],
   "source": [
    "print(torch.cuda.memory_summary())"
   ]
  },
  {
   "cell_type": "code",
   "execution_count": null,
   "id": "8abd2b80",
   "metadata": {
    "papermill": {
     "duration": 0.007195,
     "end_time": "2022-08-24T00:24:32.955435",
     "exception": false,
     "start_time": "2022-08-24T00:24:32.948240",
     "status": "completed"
    },
    "tags": []
   },
   "outputs": [],
   "source": []
  }
 ],
 "metadata": {
  "kernelspec": {
   "display_name": "Python 3",
   "language": "python",
   "name": "python3"
  },
  "language_info": {
   "codemirror_mode": {
    "name": "ipython",
    "version": 3
   },
   "file_extension": ".py",
   "mimetype": "text/x-python",
   "name": "python",
   "nbconvert_exporter": "python",
   "pygments_lexer": "ipython3",
   "version": "3.7.12"
  },
  "papermill": {
   "default_parameters": {},
   "duration": 5847.745307,
   "end_time": "2022-08-24T00:24:35.569022",
   "environment_variables": {},
   "exception": null,
   "input_path": "__notebook__.ipynb",
   "output_path": "__notebook__.ipynb",
   "parameters": {},
   "start_time": "2022-08-23T22:47:07.823715",
   "version": "2.3.4"
  }
 },
 "nbformat": 4,
 "nbformat_minor": 5
}
