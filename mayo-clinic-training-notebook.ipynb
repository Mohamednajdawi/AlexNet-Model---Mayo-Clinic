{
 "cells": [
  {
   "cell_type": "markdown",
   "id": "7c697a5a",
   "metadata": {
    "papermill": {
     "duration": 0.008675,
     "end_time": "2022-08-20T22:23:38.709908",
     "exception": false,
     "start_time": "2022-08-20T22:23:38.701233",
     "status": "completed"
    },
    "tags": []
   },
   "source": [
    "# Library"
   ]
  },
  {
   "cell_type": "code",
   "execution_count": 1,
   "id": "9350f58a",
   "metadata": {
    "_cell_guid": "b1076dfc-b9ad-4769-8c92-a6c4dae69d19",
    "_uuid": "8f2839f25d086af736a60e9eeb907d3b93b6e0e5",
    "execution": {
     "iopub.execute_input": "2022-08-20T22:23:38.726797Z",
     "iopub.status.busy": "2022-08-20T22:23:38.726246Z",
     "iopub.status.idle": "2022-08-20T22:23:46.390280Z",
     "shell.execute_reply": "2022-08-20T22:23:46.388717Z"
    },
    "papermill": {
     "duration": 7.676152,
     "end_time": "2022-08-20T22:23:46.393489",
     "exception": false,
     "start_time": "2022-08-20T22:23:38.717337",
     "status": "completed"
    },
    "tags": []
   },
   "outputs": [],
   "source": [
    "import sys\n",
    "sys.path.append('../input/pytorch-image-models/pytorch-image-models-master')\n",
    "\n",
    "import IPython.display\n",
    "\n",
    "import os\n",
    "import math\n",
    "import time\n",
    "import random\n",
    "import shutil\n",
    "from pathlib import Path\n",
    "from contextlib import contextmanager\n",
    "from collections import defaultdict, Counter\n",
    "from PIL import Image\n",
    "from glob import glob\n",
    "import scipy as sp\n",
    "import numpy as np\n",
    "import pandas as pd\n",
    "#import Pyvips\n",
    "\n",
    "from sklearn import preprocessing\n",
    "from sklearn.metrics import roc_auc_score\n",
    "from sklearn.model_selection import StratifiedKFold, GroupKFold, KFold, train_test_split\n",
    "from skimage.filters import sobel\n",
    "from skimage import segmentation\n",
    "from skimage.color import label2rgb\n",
    "from skimage.color import rgb2hed, hed2rgb\n",
    "from skimage.exposure import rescale_intensity\n",
    "from skimage.measure import regionprops, regionprops_table\n",
    "from mpl_toolkits.axes_grid1 import ImageGrid\n",
    "from sklearn.preprocessing import StandardScaler\n",
    "from scipy import ndimage as ndi\n",
    "from matplotlib.patches import Rectangle\n",
    "from pytorch_lightning.callbacks.early_stopping import EarlyStopping\n",
    "\n",
    "\n",
    "\n",
    "import torchvision\n",
    "\n",
    "from tqdm.auto import tqdm\n",
    "from tqdm import trange\n",
    "from time import sleep\n",
    "from functools import partial\n",
    "import tifffile as tiff\n",
    "\n",
    "import cv2 as cv\n",
    "from openslide import OpenSlide\n",
    "import seaborn as sns\n",
    "from matplotlib import pyplot as plt\n",
    "from pprint import pprint\n",
    "\n",
    "import torch\n",
    "import torch.nn as nn\n",
    "import torch.nn.functional as F\n",
    "from torch.optim import Adam, SGD\n",
    "import torchvision.models as models\n",
    "from torch.nn.parameter import Parameter\n",
    "from torch.utils.data import DataLoader, Dataset\n",
    "from torch.optim.lr_scheduler import CosineAnnealingWarmRestarts, CosineAnnealingLR, ReduceLROnPlateau\n",
    "import torchvision.transforms as transforms\n",
    "import torch.optim as optim\n",
    "import gc\n",
    "import torchvision.models as models\n",
    "import copy\n",
    "\n",
    "\n",
    "OUTPUT_DIR = './'\n",
    "if not os.path.exists(OUTPUT_DIR):\n",
    "    os.makedirs(OUTPUT_DIR)\n",
    "\n",
    "from torch.cuda.amp import autocast, GradScaler\n",
    "Image.MAX_IMAGE_PIXELS = None\n",
    "import warnings\n",
    "warnings.filterwarnings('ignore')\n",
    "\n",
    "device = torch.device('cuda' if torch.cuda.is_available() else 'cpu')\n"
   ]
  },
  {
   "cell_type": "markdown",
   "id": "d49916b2",
   "metadata": {
    "papermill": {
     "duration": 0.007043,
     "end_time": "2022-08-20T22:23:46.407930",
     "exception": false,
     "start_time": "2022-08-20T22:23:46.400887",
     "status": "completed"
    },
    "tags": []
   },
   "source": [
    "# Loading data"
   ]
  },
  {
   "cell_type": "code",
   "execution_count": 2,
   "id": "d50ae2a0",
   "metadata": {
    "execution": {
     "iopub.execute_input": "2022-08-20T22:23:46.423671Z",
     "iopub.status.busy": "2022-08-20T22:23:46.422963Z",
     "iopub.status.idle": "2022-08-20T22:23:46.454290Z",
     "shell.execute_reply": "2022-08-20T22:23:46.453186Z"
    },
    "papermill": {
     "duration": 0.042145,
     "end_time": "2022-08-20T22:23:46.456909",
     "exception": false,
     "start_time": "2022-08-20T22:23:46.414764",
     "status": "completed"
    },
    "tags": []
   },
   "outputs": [],
   "source": [
    "transformed_train = pd.read_csv('../input/mayo-clinic-output/new_train.csv')\n",
    "test = pd.read_csv('../input/mayo-clinic-strip-ai/test.csv')\n",
    "train, valid = train_test_split(transformed_train, test_size=0.2)\n",
    "classes_name = [\"LAA\",\"CE\"]\n",
    "\n"
   ]
  },
  {
   "cell_type": "markdown",
   "id": "0b942da2",
   "metadata": {
    "papermill": {
     "duration": 0.00669,
     "end_time": "2022-08-20T22:23:46.470668",
     "exception": false,
     "start_time": "2022-08-20T22:23:46.463978",
     "status": "completed"
    },
    "tags": []
   },
   "source": [
    "# Test Transformation "
   ]
  },
  {
   "cell_type": "code",
   "execution_count": 3,
   "id": "298f1a6f",
   "metadata": {
    "execution": {
     "iopub.execute_input": "2022-08-20T22:23:46.486993Z",
     "iopub.status.busy": "2022-08-20T22:23:46.486609Z",
     "iopub.status.idle": "2022-08-20T22:23:46.493125Z",
     "shell.execute_reply": "2022-08-20T22:23:46.491582Z"
    },
    "jupyter": {
     "source_hidden": true
    },
    "papermill": {
     "duration": 0.01808,
     "end_time": "2022-08-20T22:23:46.496349",
     "exception": false,
     "start_time": "2022-08-20T22:23:46.478269",
     "status": "completed"
    },
    "tags": []
   },
   "outputs": [],
   "source": [
    "def rezie_image(image):\n",
    "    resized_image = cv.resize(image,(int(image.shape[1]/33),int(image.shape[0]/33)),interpolation= cv.INTER_LINEAR)\n",
    "    return resized_image\n"
   ]
  },
  {
   "cell_type": "code",
   "execution_count": 4,
   "id": "60489734",
   "metadata": {
    "execution": {
     "iopub.execute_input": "2022-08-20T22:23:46.512100Z",
     "iopub.status.busy": "2022-08-20T22:23:46.511743Z",
     "iopub.status.idle": "2022-08-20T22:23:46.517551Z",
     "shell.execute_reply": "2022-08-20T22:23:46.516243Z"
    },
    "jupyter": {
     "source_hidden": true
    },
    "papermill": {
     "duration": 0.016663,
     "end_time": "2022-08-20T22:23:46.520021",
     "exception": false,
     "start_time": "2022-08-20T22:23:46.503358",
     "status": "completed"
    },
    "tags": []
   },
   "outputs": [],
   "source": [
    "def grey_resize(image):\n",
    "    gray_resized_image = cv.cvtColor(image, cv.COLOR_RGB2GRAY)    \n",
    "    return gray_resized_image\n"
   ]
  },
  {
   "cell_type": "code",
   "execution_count": 5,
   "id": "3938257d",
   "metadata": {
    "execution": {
     "iopub.execute_input": "2022-08-20T22:23:46.537299Z",
     "iopub.status.busy": "2022-08-20T22:23:46.536239Z",
     "iopub.status.idle": "2022-08-20T22:23:46.544116Z",
     "shell.execute_reply": "2022-08-20T22:23:46.542785Z"
    },
    "jupyter": {
     "source_hidden": true
    },
    "papermill": {
     "duration": 0.019513,
     "end_time": "2022-08-20T22:23:46.546779",
     "exception": false,
     "start_time": "2022-08-20T22:23:46.527266",
     "status": "completed"
    },
    "tags": []
   },
   "outputs": [],
   "source": [
    "def labeled_segment(grey_resized_image):\n",
    "    elevation_map = sobel(grey_resized_image)\n",
    "    markers = np.zeros_like(grey_resized_image)\n",
    "    markers[grey_resized_image >= grey_resized_image.mean()] = 1\n",
    "    markers[grey_resized_image < grey_resized_image.mean()] = 2\n",
    "    segmented_img = segmentation.watershed(elevation_map, markers)\n",
    "    filled_segments = ndi.binary_fill_holes(segmented_img - 1)\n",
    "    labeled_segments, _ = ndi.label(filled_segments)\n",
    "    return labeled_segments\n"
   ]
  },
  {
   "cell_type": "code",
   "execution_count": 6,
   "id": "3d27b23b",
   "metadata": {
    "execution": {
     "iopub.execute_input": "2022-08-20T22:23:46.562452Z",
     "iopub.status.busy": "2022-08-20T22:23:46.562124Z",
     "iopub.status.idle": "2022-08-20T22:23:46.567919Z",
     "shell.execute_reply": "2022-08-20T22:23:46.566425Z"
    },
    "jupyter": {
     "source_hidden": true
    },
    "papermill": {
     "duration": 0.016461,
     "end_time": "2022-08-20T22:23:46.570510",
     "exception": false,
     "start_time": "2022-08-20T22:23:46.554049",
     "status": "completed"
    },
    "tags": []
   },
   "outputs": [],
   "source": [
    "def plot_labeled_segments(labeled_segments, resized_gray_img):\n",
    "    image_label_overlay = label2rgb(labeled_segments, image=resized_gray_img, bg_label=0)\n",
    "    fig, ax = plt.subplots(figsize=(10, 8))\n",
    "    ax.imshow(image_label_overlay, cmap=plt.cm.gray)\n",
    "    ax.set_title('segmentation')\n",
    "    ax.axis('off')\n"
   ]
  },
  {
   "cell_type": "code",
   "execution_count": 7,
   "id": "b4e2ff85",
   "metadata": {
    "execution": {
     "iopub.execute_input": "2022-08-20T22:23:46.586647Z",
     "iopub.status.busy": "2022-08-20T22:23:46.585606Z",
     "iopub.status.idle": "2022-08-20T22:23:46.594418Z",
     "shell.execute_reply": "2022-08-20T22:23:46.593039Z"
    },
    "jupyter": {
     "source_hidden": true
    },
    "papermill": {
     "duration": 0.019368,
     "end_time": "2022-08-20T22:23:46.596885",
     "exception": false,
     "start_time": "2022-08-20T22:23:46.577517",
     "status": "completed"
    },
    "tags": []
   },
   "outputs": [],
   "source": [
    "def get_object_coordinates(labeled_segments):\n",
    "    properties =['area','bbox','convex_area','bbox_area', 'major_axis_length', 'minor_axis_length', 'eccentricity']\n",
    "    df = pd.DataFrame(regionprops_table(labeled_segments, properties=properties))\n",
    "    standard_scaler = StandardScaler()\n",
    "    scaled_area = standard_scaler.fit_transform(df.area.values.reshape(-1,1))\n",
    "    df['scaled_area'] = scaled_area\n",
    "    df.sort_values(by=\"scaled_area\", ascending=False, inplace=True)\n",
    "    objects = df[df['scaled_area']>=.75]\n",
    "    object_coordinates = [(row['bbox-0'],row['bbox-1'],row['bbox-2'],row['bbox-3'] )for index, row in objects.iterrows()]\n",
    "    return object_coordinates\n"
   ]
  },
  {
   "cell_type": "code",
   "execution_count": 8,
   "id": "538a19e9",
   "metadata": {
    "execution": {
     "iopub.execute_input": "2022-08-20T22:23:46.612095Z",
     "iopub.status.busy": "2022-08-20T22:23:46.611804Z",
     "iopub.status.idle": "2022-08-20T22:23:46.617866Z",
     "shell.execute_reply": "2022-08-20T22:23:46.616570Z"
    },
    "jupyter": {
     "source_hidden": true
    },
    "papermill": {
     "duration": 0.016476,
     "end_time": "2022-08-20T22:23:46.620157",
     "exception": false,
     "start_time": "2022-08-20T22:23:46.603681",
     "status": "completed"
    },
    "tags": []
   },
   "outputs": [],
   "source": [
    "def plot_object_coordinates(object_coordinates, resized_image):\n",
    "    fig, ax = plt.subplots(1,1, figsize=(18, 16), dpi = 80)\n",
    "    for blob in object_coordinates:\n",
    "        width = blob[3] - blob[1]\n",
    "        height = blob[2] - blob[0]\n",
    "        patch = Rectangle((blob[1],blob[0]), width, height, edgecolor='r', facecolor='none')\n"
   ]
  },
  {
   "cell_type": "code",
   "execution_count": 9,
   "id": "7bb9f84e",
   "metadata": {
    "execution": {
     "iopub.execute_input": "2022-08-20T22:23:46.637857Z",
     "iopub.status.busy": "2022-08-20T22:23:46.635791Z",
     "iopub.status.idle": "2022-08-20T22:23:46.644456Z",
     "shell.execute_reply": "2022-08-20T22:23:46.643158Z"
    },
    "jupyter": {
     "source_hidden": true
    },
    "papermill": {
     "duration": 0.019636,
     "end_time": "2022-08-20T22:23:46.647003",
     "exception": false,
     "start_time": "2022-08-20T22:23:46.627367",
     "status": "completed"
    },
    "tags": []
   },
   "outputs": [],
   "source": [
    "def save_objects(object_coordinates, image, image_name, count):\n",
    "    plt.figure(figsize=(10,18))\n",
    "    for i in range(len(object_coordinates)):\n",
    "        coordinates = object_coordinates[i]\n",
    "        object_image = image[int(coordinates[0]):int(coordinates[2]), int(coordinates[1]):int(coordinates[3])]\n",
    "        image_new_name = image_name + \"_\" + str(i)\n",
    "        new_test[\"image_name\"].append(image_new_name)\n",
    "        new_test[\"image_count\"].append(count)\n",
    "        cv.imwrite(os.path.join(\"./\", f\"{image_new_name}.jpg\"), object_image)\n"
   ]
  },
  {
   "cell_type": "code",
   "execution_count": 10,
   "id": "b8165808",
   "metadata": {
    "execution": {
     "iopub.execute_input": "2022-08-20T22:23:46.662443Z",
     "iopub.status.busy": "2022-08-20T22:23:46.662052Z",
     "iopub.status.idle": "2022-08-20T22:25:24.194028Z",
     "shell.execute_reply": "2022-08-20T22:25:24.192781Z"
    },
    "papermill": {
     "duration": 97.547481,
     "end_time": "2022-08-20T22:25:24.201618",
     "exception": false,
     "start_time": "2022-08-20T22:23:46.654137",
     "status": "completed"
    },
    "tags": []
   },
   "outputs": [
    {
     "data": {
      "text/plain": [
       "<Figure size 720x1296 with 0 Axes>"
      ]
     },
     "metadata": {},
     "output_type": "display_data"
    },
    {
     "data": {
      "text/plain": [
       "<Figure size 720x1296 with 0 Axes>"
      ]
     },
     "metadata": {},
     "output_type": "display_data"
    },
    {
     "data": {
      "text/plain": [
       "<Figure size 720x1296 with 0 Axes>"
      ]
     },
     "metadata": {},
     "output_type": "display_data"
    },
    {
     "data": {
      "text/plain": [
       "<Figure size 720x1296 with 0 Axes>"
      ]
     },
     "metadata": {},
     "output_type": "display_data"
    }
   ],
   "source": [
    "test_path = \"../input/mayo-clinic-strip-ai/test\"\n",
    "Image_names = test['image_id'].values\n",
    "new_test={\"image_count\":[],\"image_name\":[]}\n",
    "count = 1\n",
    "scale = 4\n",
    "for image_name in Image_names:\n",
    "    image = tiff.imread(os.path.join(test_path, f\"{image_name}.tif\"))\n",
    "    resized_image=rezie_image(image)\n",
    "    del image\n",
    "    gc.collect()\n",
    "    grey_resized_image = grey_resize(resized_image)\n",
    "    labeled_segments = labeled_segment(grey_resized_image)\n",
    "    object_coordinates = get_object_coordinates(labeled_segments)\n",
    "    save_objects(object_coordinates, resized_image, image_name,count)\n",
    "    \n",
    "new_test=pd.DataFrame.from_dict(new_test)\n"
   ]
  },
  {
   "cell_type": "markdown",
   "id": "4ed059a2",
   "metadata": {
    "papermill": {
     "duration": 0.007065,
     "end_time": "2022-08-20T22:25:24.216735",
     "exception": false,
     "start_time": "2022-08-20T22:25:24.209670",
     "status": "completed"
    },
    "tags": []
   },
   "source": [
    "# Data Loader"
   ]
  },
  {
   "cell_type": "code",
   "execution_count": 11,
   "id": "625df18d",
   "metadata": {
    "execution": {
     "iopub.execute_input": "2022-08-20T22:25:24.233391Z",
     "iopub.status.busy": "2022-08-20T22:25:24.233021Z",
     "iopub.status.idle": "2022-08-20T22:25:24.241606Z",
     "shell.execute_reply": "2022-08-20T22:25:24.240258Z"
    },
    "papermill": {
     "duration": 0.020274,
     "end_time": "2022-08-20T22:25:24.244341",
     "exception": false,
     "start_time": "2022-08-20T22:25:24.224067",
     "status": "completed"
    },
    "tags": []
   },
   "outputs": [],
   "source": [
    "class TrainDataset(Dataset):\n",
    "    def __init__(self, path, df,phase, transform=None):\n",
    "        self.df = df\n",
    "        self.path = path\n",
    "        self.Image_names = df['image_name'].values\n",
    "        self.phase = phase\n",
    "        if phase ==\"train\":\n",
    "            self.labels = df['label'].values\n",
    "        self.transform = transform\n",
    "        \n",
    "    def __len__(self):\n",
    "        return len(self.df)\n",
    "\n",
    "    def __getitem__(self, idx):\n",
    "        file_name = self.Image_names[idx]\n",
    "        img= Image.open(os.path.join(self.path, f\"{file_name}.jpg\"))\n",
    "        if self.transform:\n",
    "            image=self.transform(img)\n",
    "        if self.phase ==\"train\":\n",
    "            label = self.labels[idx]\n",
    "            return image, torch.tensor(label), file_name\n",
    "        else:\n",
    "            return image, file_name\n",
    "        "
   ]
  },
  {
   "cell_type": "markdown",
   "id": "29521725",
   "metadata": {
    "papermill": {
     "duration": 0.008052,
     "end_time": "2022-08-20T22:25:24.259670",
     "exception": false,
     "start_time": "2022-08-20T22:25:24.251618",
     "status": "completed"
    },
    "tags": []
   },
   "source": [
    "# Transforms"
   ]
  },
  {
   "cell_type": "code",
   "execution_count": 12,
   "id": "5455d489",
   "metadata": {
    "execution": {
     "iopub.execute_input": "2022-08-20T22:25:24.276035Z",
     "iopub.status.busy": "2022-08-20T22:25:24.275675Z",
     "iopub.status.idle": "2022-08-20T22:25:24.286997Z",
     "shell.execute_reply": "2022-08-20T22:25:24.285627Z"
    },
    "papermill": {
     "duration": 0.022206,
     "end_time": "2022-08-20T22:25:24.289564",
     "exception": false,
     "start_time": "2022-08-20T22:25:24.267358",
     "status": "completed"
    },
    "tags": []
   },
   "outputs": [],
   "source": [
    "batch_size=64\n",
    "data_transform = transforms.Compose([\n",
    "        transforms.Resize((256,256)),\n",
    "        transforms.ToTensor(),\n",
    "        transforms.Normalize(mean=[0.485, 0.456, 0.406],\n",
    "                             std=[0.229, 0.224, 0.225])\n",
    "    ])\n",
    "train_dataset = TrainDataset(\"../input/mayo-clinic-output/\", train,phase=\"train\", transform = data_transform)\n",
    "valid_dataset = TrainDataset(\"../input/mayo-clinic-output/\", valid,phase=\"train\", transform = data_transform)\n",
    "test_dataset = TrainDataset(\"./\", new_test,phase=\"test\", transform = data_transform)\n",
    "\n",
    "train_dl = torch.utils.data.DataLoader(train_dataset,\n",
    "                                             batch_size=batch_size, shuffle=True,\n",
    "                                             num_workers=0)\n",
    "valid_dl = torch.utils.data.DataLoader(valid_dataset,\n",
    "                                             batch_size=batch_size, shuffle=True,\n",
    "                                             num_workers=0)\n",
    "test_dl = torch.utils.data.DataLoader(test_dataset,\n",
    "                                             batch_size=batch_size, shuffle=True,\n",
    "                                             num_workers=0)\n"
   ]
  },
  {
   "cell_type": "code",
   "execution_count": 13,
   "id": "fbfc6e57",
   "metadata": {
    "execution": {
     "iopub.execute_input": "2022-08-20T22:25:24.306545Z",
     "iopub.status.busy": "2022-08-20T22:25:24.305288Z",
     "iopub.status.idle": "2022-08-20T22:25:24.312939Z",
     "shell.execute_reply": "2022-08-20T22:25:24.311534Z"
    },
    "papermill": {
     "duration": 0.018847,
     "end_time": "2022-08-20T22:25:24.315700",
     "exception": false,
     "start_time": "2022-08-20T22:25:24.296853",
     "status": "completed"
    },
    "tags": []
   },
   "outputs": [],
   "source": [
    "def imshow(axis, inp):\n",
    "    \"\"\"Denormalize and show\"\"\"\n",
    "    inp = inp.numpy().transpose((1, 2, 0))\n",
    "    mean = np.array([0.485, 0.456, 0.406])\n",
    "    std = np.array([0.229, 0.224, 0.225])\n",
    "    inp = std * inp + mean\n",
    "    axis.imshow(inp)\n"
   ]
  },
  {
   "cell_type": "code",
   "execution_count": 14,
   "id": "0d1e4468",
   "metadata": {
    "execution": {
     "iopub.execute_input": "2022-08-20T22:25:24.332618Z",
     "iopub.status.busy": "2022-08-20T22:25:24.332305Z",
     "iopub.status.idle": "2022-08-20T22:25:24.339257Z",
     "shell.execute_reply": "2022-08-20T22:25:24.337964Z"
    },
    "papermill": {
     "duration": 0.018855,
     "end_time": "2022-08-20T22:25:24.341965",
     "exception": false,
     "start_time": "2022-08-20T22:25:24.323110",
     "status": "completed"
    },
    "tags": []
   },
   "outputs": [
    {
     "data": {
      "text/plain": [
       "'img, label = next(iter(train_dl))\\nprint(img.size(), label.size())\\nfig = plt.figure(1, figsize=(16, 4))\\ngrid = ImageGrid(fig, 111, nrows_ncols=(8, 10), axes_pad=0.05)    \\nfor i in range(img.size()[0]):\\n    ax = grid[i]\\n    imshow(ax, img[i])\\n'"
      ]
     },
     "execution_count": 14,
     "metadata": {},
     "output_type": "execute_result"
    }
   ],
   "source": [
    "\"\"\"img, label = next(iter(train_dl))\n",
    "print(img.size(), label.size())\n",
    "fig = plt.figure(1, figsize=(16, 4))\n",
    "grid = ImageGrid(fig, 111, nrows_ncols=(8, 10), axes_pad=0.05)    \n",
    "for i in range(img.size()[0]):\n",
    "    ax = grid[i]\n",
    "    imshow(ax, img[i])\n",
    "\"\"\""
   ]
  },
  {
   "cell_type": "markdown",
   "id": "d4f58ce0",
   "metadata": {
    "papermill": {
     "duration": 0.007552,
     "end_time": "2022-08-20T22:25:24.356849",
     "exception": false,
     "start_time": "2022-08-20T22:25:24.349297",
     "status": "completed"
    },
    "tags": []
   },
   "source": [
    "# PreTrained Model"
   ]
  },
  {
   "cell_type": "code",
   "execution_count": 15,
   "id": "ab8a0900",
   "metadata": {
    "execution": {
     "iopub.execute_input": "2022-08-20T22:25:24.375157Z",
     "iopub.status.busy": "2022-08-20T22:25:24.374274Z",
     "iopub.status.idle": "2022-08-20T22:25:39.874821Z",
     "shell.execute_reply": "2022-08-20T22:25:39.873482Z"
    },
    "papermill": {
     "duration": 15.512776,
     "end_time": "2022-08-20T22:25:39.878055",
     "exception": false,
     "start_time": "2022-08-20T22:25:24.365279",
     "status": "completed"
    },
    "tags": []
   },
   "outputs": [
    {
     "name": "stderr",
     "output_type": "stream",
     "text": [
      "Downloading: \"https://download.pytorch.org/models/resnet50-0676ba61.pth\" to /root/.cache/torch/hub/checkpoints/resnet50-0676ba61.pth\n"
     ]
    },
    {
     "data": {
      "application/vnd.jupyter.widget-view+json": {
       "model_id": "0215e1e8ad414453943df20de4d277ed",
       "version_major": 2,
       "version_minor": 0
      },
      "text/plain": [
       "  0%|          | 0.00/97.8M [00:00<?, ?B/s]"
      ]
     },
     "metadata": {},
     "output_type": "display_data"
    }
   ],
   "source": [
    "use_gpu = torch.cuda.is_available()\n",
    "model_ft = models.resnet50(pretrained=True)\n",
    "num_ftrs = model_ft.fc.in_features\n",
    "model_ft.fc = nn.Linear(num_ftrs, 2)\n",
    "model_ft=model_ft.to(device)\n",
    "\n",
    "criterion = nn.CrossEntropyLoss()\n",
    "optimizer = optim.SGD(model_ft.parameters(), lr=0.01, momentum=0.9)\n",
    "exp_lr_scheduler = torch.optim.lr_scheduler.StepLR(optimizer, step_size=7, gamma=0.1)\n",
    "\n"
   ]
  },
  {
   "cell_type": "markdown",
   "id": "bd197424",
   "metadata": {
    "papermill": {
     "duration": 0.008262,
     "end_time": "2022-08-20T22:25:39.897217",
     "exception": false,
     "start_time": "2022-08-20T22:25:39.888955",
     "status": "completed"
    },
    "tags": []
   },
   "source": [
    "# Training"
   ]
  },
  {
   "cell_type": "code",
   "execution_count": 16,
   "id": "204dade5",
   "metadata": {
    "execution": {
     "iopub.execute_input": "2022-08-20T22:25:39.916781Z",
     "iopub.status.busy": "2022-08-20T22:25:39.915954Z",
     "iopub.status.idle": "2022-08-20T22:25:39.931876Z",
     "shell.execute_reply": "2022-08-20T22:25:39.930373Z"
    },
    "papermill": {
     "duration": 0.029469,
     "end_time": "2022-08-20T22:25:39.934840",
     "exception": false,
     "start_time": "2022-08-20T22:25:39.905371",
     "status": "completed"
    },
    "tags": []
   },
   "outputs": [],
   "source": [
    "def train_model(dataloders, model, criterion, optimizer, scheduler, num_epochs=25):\n",
    "    since = time.time()\n",
    "    best_model_wts = model.state_dict()\n",
    "    best_acc = 0.0\n",
    "    dataset_sizes = {'train': len(dataloders['train'].dataset), \n",
    "                     'valid': len(dataloders['valid'].dataset)}\n",
    "\n",
    "    for epoch in range(num_epochs):\n",
    "        for phase in ['train', 'valid']:\n",
    "            if phase == 'train':\n",
    "                scheduler.step()\n",
    "                model.train(True)\n",
    "            else:\n",
    "                model.train(False)\n",
    "\n",
    "            running_loss = 0.0\n",
    "            running_corrects = 0\n",
    "\n",
    "            for inputs, labels, _ in dataloders[phase]:\n",
    "                if use_gpu:\n",
    "                    inputs = inputs.to(device)\n",
    "                    labels = labels.to(device)\n",
    "                else:\n",
    "                    inputs = inputs.to(device)\n",
    "                    labels = labels.to(device)\n",
    "\n",
    "                optimizer.zero_grad()\n",
    "\n",
    "                outputs = model(inputs)\n",
    "                _, preds = torch.max(outputs.data, 1)\n",
    "                loss = criterion(outputs, labels)\n",
    "\n",
    "                if phase == 'train':\n",
    "                    loss.backward()\n",
    "                    optimizer.step()\n",
    "\n",
    "                running_loss += loss.data\n",
    "                running_corrects += torch.sum(preds == labels.data)\n",
    "                del inputs, labels\n",
    "                gc.collect()\n",
    "            \n",
    "            if phase == 'train':\n",
    "                train_epoch_loss = running_loss / dataset_sizes[phase]\n",
    "                train_epoch_acc = running_corrects / dataset_sizes[phase]\n",
    "            else:\n",
    "                valid_epoch_loss = running_loss / dataset_sizes[phase]\n",
    "                valid_epoch_acc = running_corrects / dataset_sizes[phase]\n",
    "                \n",
    "            if phase == 'valid' and valid_epoch_acc > best_acc:\n",
    "                best_acc = valid_epoch_acc\n",
    "                best_model_wts = model.state_dict()\n",
    "\n",
    "        print('Epoch [{}/{}] train loss: {:.4f} acc: {:.4f} ' \n",
    "              'valid loss: {:.4f} acc: {:.4f}'.format(\n",
    "                epoch, num_epochs - 1,\n",
    "                train_epoch_loss, train_epoch_acc, \n",
    "                valid_epoch_loss, valid_epoch_acc))\n",
    "            \n",
    "    print('Best val Acc: {:4f}'.format(best_acc))\n",
    "\n",
    "    model.load_state_dict(best_model_wts)\n",
    "    return model"
   ]
  },
  {
   "cell_type": "code",
   "execution_count": 17,
   "id": "8eeb7e27",
   "metadata": {
    "execution": {
     "iopub.execute_input": "2022-08-20T22:25:39.954641Z",
     "iopub.status.busy": "2022-08-20T22:25:39.953433Z",
     "iopub.status.idle": "2022-08-20T22:36:08.423288Z",
     "shell.execute_reply": "2022-08-20T22:36:08.421914Z"
    },
    "papermill": {
     "duration": 628.491906,
     "end_time": "2022-08-20T22:36:08.435652",
     "exception": false,
     "start_time": "2022-08-20T22:25:39.943746",
     "status": "completed"
    },
    "tags": []
   },
   "outputs": [
    {
     "name": "stdout",
     "output_type": "stream",
     "text": [
      "Epoch [0/11] train loss: 0.0108 acc: 0.6472 valid loss: 0.0133 acc: 0.4976\n",
      "Epoch [1/11] train loss: 0.0090 acc: 0.7302 valid loss: 0.0100 acc: 0.7005\n",
      "Epoch [2/11] train loss: 0.0082 acc: 0.7774 valid loss: 0.0109 acc: 0.7024\n",
      "Epoch [3/11] train loss: 0.0061 acc: 0.8295 valid loss: 0.0126 acc: 0.7498\n",
      "Epoch [4/11] train loss: 0.0039 acc: 0.9007 valid loss: 0.0317 acc: 0.7261\n",
      "Epoch [5/11] train loss: 0.0032 acc: 0.9229 valid loss: 0.0124 acc: 0.7175\n",
      "Epoch [6/11] train loss: 0.0015 acc: 0.9692 valid loss: 0.0095 acc: 0.7801\n",
      "Epoch [7/11] train loss: 0.0005 acc: 0.9953 valid loss: 0.0102 acc: 0.7962\n",
      "Epoch [8/11] train loss: 0.0003 acc: 0.9986 valid loss: 0.0101 acc: 0.8009\n",
      "Epoch [9/11] train loss: 0.0002 acc: 0.9991 valid loss: 0.0102 acc: 0.8057\n",
      "Epoch [10/11] train loss: 0.0001 acc: 0.9998 valid loss: 0.0108 acc: 0.7991\n",
      "Epoch [11/11] train loss: 0.0001 acc: 0.9995 valid loss: 0.0109 acc: 0.8123\n",
      "Best val Acc: 0.812322\n",
      "Training time:  10.474372 minutes\n"
     ]
    }
   ],
   "source": [
    "dloaders = {'train':train_dl, 'valid':valid_dl}\n",
    "start_time = time.time()\n",
    "model = train_model(dloaders, model_ft, criterion, optimizer, exp_lr_scheduler, num_epochs=12)\n",
    "del model_ft\n",
    "gc.collect()\n",
    "print('Training time: {:10f} minutes'.format((time.time()-start_time)/60))"
   ]
  },
  {
   "cell_type": "code",
   "execution_count": 18,
   "id": "4946bfdf",
   "metadata": {
    "execution": {
     "iopub.execute_input": "2022-08-20T22:36:08.455716Z",
     "iopub.status.busy": "2022-08-20T22:36:08.455391Z",
     "iopub.status.idle": "2022-08-20T22:36:08.467219Z",
     "shell.execute_reply": "2022-08-20T22:36:08.465929Z"
    },
    "papermill": {
     "duration": 0.023735,
     "end_time": "2022-08-20T22:36:08.469757",
     "exception": false,
     "start_time": "2022-08-20T22:36:08.446022",
     "status": "completed"
    },
    "tags": []
   },
   "outputs": [],
   "source": [
    "def visualize_model(dataloders, model, num_images=25):\n",
    "    cnt = 0\n",
    "    fig = plt.figure(1, figsize=(20, 20))\n",
    "    grid = ImageGrid(fig, 111, nrows_ncols=(5, 5), axes_pad=0.05)\n",
    "    for i, (inputs, labels, file_name) in enumerate(dataloders['valid']):\n",
    "        if use_gpu:\n",
    "            inputs = inputs.to(device)\n",
    "            labels = labels.to(device)\n",
    "        else:\n",
    "            inputs = inputs.to(device)\n",
    "            labels = labels.to(device)\n",
    "\n",
    "        outputs = model(inputs)\n",
    "        _, preds = torch.max(outputs.data, 1)\n",
    "        sm = torch.nn.Softmax()\n",
    "        probabilities = sm(outputs).tolist()\n",
    "        rounded_prob = [np.round(num, 1) for num in probabilities]\n",
    "        for j in range(inputs.size()[0]):\n",
    "            ax = grid[cnt]\n",
    "            imshow(ax, inputs.cpu().data[j])\n",
    "            ax.text(10, 20, 'ID: {} '.format(file_name[j]),color='k', backgroundcolor='w', alpha=0.8,size=\"small\")\n",
    "            ax.text(10, 230, 'Predicted {} || Actual {}'.format(classes_name[preds[j]], classes_name[labels.data[j]]), \n",
    "                    color='k', backgroundcolor='w', alpha=0.8,size=\"small\")\n",
    "            ax.text(10, 245,rounded_prob[j],color='k', backgroundcolor='w', alpha=0.8,size=\"small\")\n",
    "            cnt += 1\n",
    "            if cnt == num_images:\n",
    "                del inputs, labels\n",
    "                gc.collect()\n",
    "                return"
   ]
  },
  {
   "cell_type": "code",
   "execution_count": 19,
   "id": "90bbedbf",
   "metadata": {
    "execution": {
     "iopub.execute_input": "2022-08-20T22:36:08.488027Z",
     "iopub.status.busy": "2022-08-20T22:36:08.487709Z",
     "iopub.status.idle": "2022-08-20T22:36:08.493663Z",
     "shell.execute_reply": "2022-08-20T22:36:08.492249Z"
    },
    "papermill": {
     "duration": 0.018647,
     "end_time": "2022-08-20T22:36:08.496716",
     "exception": false,
     "start_time": "2022-08-20T22:36:08.478069",
     "status": "completed"
    },
    "tags": []
   },
   "outputs": [],
   "source": [
    "#visualize_model(dloaders, model)\n"
   ]
  },
  {
   "cell_type": "markdown",
   "id": "dad0a059",
   "metadata": {
    "papermill": {
     "duration": 0.008246,
     "end_time": "2022-08-20T22:36:08.513419",
     "exception": false,
     "start_time": "2022-08-20T22:36:08.505173",
     "status": "completed"
    },
    "tags": []
   },
   "source": [
    "# Submission"
   ]
  },
  {
   "cell_type": "code",
   "execution_count": 20,
   "id": "881eda4a",
   "metadata": {
    "execution": {
     "iopub.execute_input": "2022-08-20T22:36:08.532521Z",
     "iopub.status.busy": "2022-08-20T22:36:08.532171Z",
     "iopub.status.idle": "2022-08-20T22:36:08.543554Z",
     "shell.execute_reply": "2022-08-20T22:36:08.542317Z"
    },
    "papermill": {
     "duration": 0.023939,
     "end_time": "2022-08-20T22:36:08.546260",
     "exception": false,
     "start_time": "2022-08-20T22:36:08.522321",
     "status": "completed"
    },
    "tags": []
   },
   "outputs": [],
   "source": [
    "def submission(dataloders, model):\n",
    "    prob_data = {\"ID\":[],\"prob\":[]}\n",
    "    if dataloders ==dloaders:\n",
    "        dataloders = dataloders['valid']\n",
    "        \n",
    "    for i, (inputs, file_name) in enumerate(dataloders):\n",
    "        if use_gpu:\n",
    "            inputs = inputs.to(device)\n",
    "            \n",
    "        outputs = model(inputs)\n",
    "        _, preds = torch.max(outputs.data, 1)\n",
    "        sm = torch.nn.Softmax()\n",
    "        probabilities = sm(outputs).tolist()\n",
    "        rounded_prob = [np.round(num, 1) for num in probabilities]\n",
    "        \n",
    "        for i in range(inputs.size()[0]):\n",
    "            prob_data[\"ID\"].append(file_name[i])\n",
    "            prob_data[\"prob\"].append(rounded_prob[i])\n",
    "            \n",
    "        del inputs\n",
    "        gc.collect()\n",
    "    prob_data= pd.DataFrame.from_dict(prob_data)\n",
    "    prob_data['patient_id'], prob_data['image_nu'],prob_data['split_nu'] = prob_data['ID'].str.split('_').str\n",
    "    prob_data[['LAA','CE']] = pd.DataFrame(prob_data.prob.tolist(), index= prob_data.index)\n",
    "    prob_data_submission = prob_data.drop(['ID', 'prob','image_nu','split_nu'], axis=1)\n",
    "    avg = prob_data_submission.groupby('patient_id',as_index=False).mean()\n",
    "    avg = avg[['patient_id','CE','LAA']]\n",
    "    return avg\n",
    "    "
   ]
  },
  {
   "cell_type": "code",
   "execution_count": 21,
   "id": "3dfc61d7",
   "metadata": {
    "execution": {
     "iopub.execute_input": "2022-08-20T22:36:08.564980Z",
     "iopub.status.busy": "2022-08-20T22:36:08.564646Z",
     "iopub.status.idle": "2022-08-20T22:36:09.023138Z",
     "shell.execute_reply": "2022-08-20T22:36:09.021876Z"
    },
    "papermill": {
     "duration": 0.471001,
     "end_time": "2022-08-20T22:36:09.026272",
     "exception": false,
     "start_time": "2022-08-20T22:36:08.555271",
     "status": "completed"
    },
    "tags": []
   },
   "outputs": [],
   "source": [
    "avg=submission(test_dl, model)\n"
   ]
  },
  {
   "cell_type": "code",
   "execution_count": 22,
   "id": "88b4c337",
   "metadata": {
    "execution": {
     "iopub.execute_input": "2022-08-20T22:36:09.046700Z",
     "iopub.status.busy": "2022-08-20T22:36:09.045266Z",
     "iopub.status.idle": "2022-08-20T22:36:09.055777Z",
     "shell.execute_reply": "2022-08-20T22:36:09.054405Z"
    },
    "papermill": {
     "duration": 0.024265,
     "end_time": "2022-08-20T22:36:09.059053",
     "exception": false,
     "start_time": "2022-08-20T22:36:09.034788",
     "status": "completed"
    },
    "tags": []
   },
   "outputs": [],
   "source": [
    "avg.to_csv('submission.csv',index=False)\n"
   ]
  },
  {
   "cell_type": "code",
   "execution_count": 23,
   "id": "71c1579d",
   "metadata": {
    "execution": {
     "iopub.execute_input": "2022-08-20T22:36:09.081162Z",
     "iopub.status.busy": "2022-08-20T22:36:09.080717Z",
     "iopub.status.idle": "2022-08-20T22:36:09.088388Z",
     "shell.execute_reply": "2022-08-20T22:36:09.087001Z"
    },
    "papermill": {
     "duration": 0.023958,
     "end_time": "2022-08-20T22:36:09.092746",
     "exception": false,
     "start_time": "2022-08-20T22:36:09.068788",
     "status": "completed"
    },
    "tags": []
   },
   "outputs": [
    {
     "name": "stdout",
     "output_type": "stream",
     "text": [
      "|===========================================================================|\n",
      "|                  PyTorch CUDA memory summary, device ID 0                 |\n",
      "|---------------------------------------------------------------------------|\n",
      "|            CUDA OOMs: 0            |        cudaMalloc retries: 0         |\n",
      "|===========================================================================|\n",
      "|        Metric         | Cur Usage  | Peak Usage | Tot Alloc  | Tot Freed  |\n",
      "|---------------------------------------------------------------------------|\n",
      "| Allocated memory      |  280135 KB |   13970 MB |   23623 GB |   23622 GB |\n",
      "|       from large pool |  227072 KB |   13917 MB |   23601 GB |   23601 GB |\n",
      "|       from small pool |   53063 KB |      53 MB |      21 GB |      21 GB |\n",
      "|---------------------------------------------------------------------------|\n",
      "| Active memory         |  280135 KB |   13970 MB |   23623 GB |   23622 GB |\n",
      "|       from large pool |  227072 KB |   13917 MB |   23601 GB |   23601 GB |\n",
      "|       from small pool |   53063 KB |      53 MB |      21 GB |      21 GB |\n",
      "|---------------------------------------------------------------------------|\n",
      "| GPU reserved memory   |   14432 MB |   14432 MB |   14432 MB |       0 B  |\n",
      "|       from large pool |   14378 MB |   14378 MB |   14378 MB |       0 B  |\n",
      "|       from small pool |      54 MB |      54 MB |      54 MB |       0 B  |\n",
      "|---------------------------------------------------------------------------|\n",
      "| Non-releasable memory |     790 MB |    2557 MB |    4632 GB |    4631 GB |\n",
      "|       from large pool |     788 MB |    2556 MB |    4610 GB |    4610 GB |\n",
      "|       from small pool |       2 MB |       2 MB |      21 GB |      21 GB |\n",
      "|---------------------------------------------------------------------------|\n",
      "| Allocations           |     642    |     976    |  596772    |  596130    |\n",
      "|       from large pool |      51    |     261    |  354198    |  354147    |\n",
      "|       from small pool |     591    |     715    |  242574    |  241983    |\n",
      "|---------------------------------------------------------------------------|\n",
      "| Active allocs         |     642    |     976    |  596772    |  596130    |\n",
      "|       from large pool |      51    |     261    |  354198    |  354147    |\n",
      "|       from small pool |     591    |     715    |  242574    |  241983    |\n",
      "|---------------------------------------------------------------------------|\n",
      "| GPU reserved segments |     168    |     168    |     168    |       0    |\n",
      "|       from large pool |     141    |     141    |     141    |       0    |\n",
      "|       from small pool |      27    |      27    |      27    |       0    |\n",
      "|---------------------------------------------------------------------------|\n",
      "| Non-releasable allocs |      21    |     101    |  195039    |  195018    |\n",
      "|       from large pool |      12    |      96    |  105732    |  105720    |\n",
      "|       from small pool |       9    |      15    |   89307    |   89298    |\n",
      "|---------------------------------------------------------------------------|\n",
      "| Oversize allocations  |       0    |       0    |       0    |       0    |\n",
      "|---------------------------------------------------------------------------|\n",
      "| Oversize GPU segments |       0    |       0    |       0    |       0    |\n",
      "|===========================================================================|\n",
      "\n"
     ]
    }
   ],
   "source": [
    "print(torch.cuda.memory_summary())"
   ]
  },
  {
   "cell_type": "code",
   "execution_count": null,
   "id": "7e583d9f",
   "metadata": {
    "papermill": {
     "duration": 0.008668,
     "end_time": "2022-08-20T22:36:09.111208",
     "exception": false,
     "start_time": "2022-08-20T22:36:09.102540",
     "status": "completed"
    },
    "tags": []
   },
   "outputs": [],
   "source": []
  }
 ],
 "metadata": {
  "kernelspec": {
   "display_name": "Python 3",
   "language": "python",
   "name": "python3"
  },
  "language_info": {
   "codemirror_mode": {
    "name": "ipython",
    "version": 3
   },
   "file_extension": ".py",
   "mimetype": "text/x-python",
   "name": "python",
   "nbconvert_exporter": "python",
   "pygments_lexer": "ipython3",
   "version": "3.7.12"
  },
  "papermill": {
   "default_parameters": {},
   "duration": 764.113332,
   "end_time": "2022-08-20T22:36:12.420326",
   "environment_variables": {},
   "exception": null,
   "input_path": "__notebook__.ipynb",
   "output_path": "__notebook__.ipynb",
   "parameters": {},
   "start_time": "2022-08-20T22:23:28.306994",
   "version": "2.3.4"
  },
  "widgets": {
   "application/vnd.jupyter.widget-state+json": {
    "state": {
     "01cb6a0c268b4bc490a2ae27c67a4459": {
      "model_module": "@jupyter-widgets/controls",
      "model_module_version": "1.5.0",
      "model_name": "DescriptionStyleModel",
      "state": {
       "_model_module": "@jupyter-widgets/controls",
       "_model_module_version": "1.5.0",
       "_model_name": "DescriptionStyleModel",
       "_view_count": null,
       "_view_module": "@jupyter-widgets/base",
       "_view_module_version": "1.2.0",
       "_view_name": "StyleView",
       "description_width": ""
      }
     },
     "0215e1e8ad414453943df20de4d277ed": {
      "model_module": "@jupyter-widgets/controls",
      "model_module_version": "1.5.0",
      "model_name": "HBoxModel",
      "state": {
       "_dom_classes": [],
       "_model_module": "@jupyter-widgets/controls",
       "_model_module_version": "1.5.0",
       "_model_name": "HBoxModel",
       "_view_count": null,
       "_view_module": "@jupyter-widgets/controls",
       "_view_module_version": "1.5.0",
       "_view_name": "HBoxView",
       "box_style": "",
       "children": [
        "IPY_MODEL_30ec3eaf3e6542459c2fa0694e4a22f7",
        "IPY_MODEL_6b1a3ed4710f40efa9fac4cd02fbb0d0",
        "IPY_MODEL_c06a12c98962423697a6761b67646ee5"
       ],
       "layout": "IPY_MODEL_809d8a89a06a4ea49cae2843b7e8dead"
      }
     },
     "30ec3eaf3e6542459c2fa0694e4a22f7": {
      "model_module": "@jupyter-widgets/controls",
      "model_module_version": "1.5.0",
      "model_name": "HTMLModel",
      "state": {
       "_dom_classes": [],
       "_model_module": "@jupyter-widgets/controls",
       "_model_module_version": "1.5.0",
       "_model_name": "HTMLModel",
       "_view_count": null,
       "_view_module": "@jupyter-widgets/controls",
       "_view_module_version": "1.5.0",
       "_view_name": "HTMLView",
       "description": "",
       "description_tooltip": null,
       "layout": "IPY_MODEL_ad022cec42ae4eb9981c1b040716255f",
       "placeholder": "​",
       "style": "IPY_MODEL_01cb6a0c268b4bc490a2ae27c67a4459",
       "value": "100%"
      }
     },
     "550a50b0e0154516a4a31fbdc66038cc": {
      "model_module": "@jupyter-widgets/base",
      "model_module_version": "1.2.0",
      "model_name": "LayoutModel",
      "state": {
       "_model_module": "@jupyter-widgets/base",
       "_model_module_version": "1.2.0",
       "_model_name": "LayoutModel",
       "_view_count": null,
       "_view_module": "@jupyter-widgets/base",
       "_view_module_version": "1.2.0",
       "_view_name": "LayoutView",
       "align_content": null,
       "align_items": null,
       "align_self": null,
       "border": null,
       "bottom": null,
       "display": null,
       "flex": null,
       "flex_flow": null,
       "grid_area": null,
       "grid_auto_columns": null,
       "grid_auto_flow": null,
       "grid_auto_rows": null,
       "grid_column": null,
       "grid_gap": null,
       "grid_row": null,
       "grid_template_areas": null,
       "grid_template_columns": null,
       "grid_template_rows": null,
       "height": null,
       "justify_content": null,
       "justify_items": null,
       "left": null,
       "margin": null,
       "max_height": null,
       "max_width": null,
       "min_height": null,
       "min_width": null,
       "object_fit": null,
       "object_position": null,
       "order": null,
       "overflow": null,
       "overflow_x": null,
       "overflow_y": null,
       "padding": null,
       "right": null,
       "top": null,
       "visibility": null,
       "width": null
      }
     },
     "6b1a3ed4710f40efa9fac4cd02fbb0d0": {
      "model_module": "@jupyter-widgets/controls",
      "model_module_version": "1.5.0",
      "model_name": "FloatProgressModel",
      "state": {
       "_dom_classes": [],
       "_model_module": "@jupyter-widgets/controls",
       "_model_module_version": "1.5.0",
       "_model_name": "FloatProgressModel",
       "_view_count": null,
       "_view_module": "@jupyter-widgets/controls",
       "_view_module_version": "1.5.0",
       "_view_name": "ProgressView",
       "bar_style": "success",
       "description": "",
       "description_tooltip": null,
       "layout": "IPY_MODEL_6d669d0abd3446cbaf8b2556de6fd688",
       "max": 102530333.0,
       "min": 0.0,
       "orientation": "horizontal",
       "style": "IPY_MODEL_a6d7f698ef3f4327a610d6418e8403d6",
       "value": 102530333.0
      }
     },
     "6d669d0abd3446cbaf8b2556de6fd688": {
      "model_module": "@jupyter-widgets/base",
      "model_module_version": "1.2.0",
      "model_name": "LayoutModel",
      "state": {
       "_model_module": "@jupyter-widgets/base",
       "_model_module_version": "1.2.0",
       "_model_name": "LayoutModel",
       "_view_count": null,
       "_view_module": "@jupyter-widgets/base",
       "_view_module_version": "1.2.0",
       "_view_name": "LayoutView",
       "align_content": null,
       "align_items": null,
       "align_self": null,
       "border": null,
       "bottom": null,
       "display": null,
       "flex": null,
       "flex_flow": null,
       "grid_area": null,
       "grid_auto_columns": null,
       "grid_auto_flow": null,
       "grid_auto_rows": null,
       "grid_column": null,
       "grid_gap": null,
       "grid_row": null,
       "grid_template_areas": null,
       "grid_template_columns": null,
       "grid_template_rows": null,
       "height": null,
       "justify_content": null,
       "justify_items": null,
       "left": null,
       "margin": null,
       "max_height": null,
       "max_width": null,
       "min_height": null,
       "min_width": null,
       "object_fit": null,
       "object_position": null,
       "order": null,
       "overflow": null,
       "overflow_x": null,
       "overflow_y": null,
       "padding": null,
       "right": null,
       "top": null,
       "visibility": null,
       "width": null
      }
     },
     "809d8a89a06a4ea49cae2843b7e8dead": {
      "model_module": "@jupyter-widgets/base",
      "model_module_version": "1.2.0",
      "model_name": "LayoutModel",
      "state": {
       "_model_module": "@jupyter-widgets/base",
       "_model_module_version": "1.2.0",
       "_model_name": "LayoutModel",
       "_view_count": null,
       "_view_module": "@jupyter-widgets/base",
       "_view_module_version": "1.2.0",
       "_view_name": "LayoutView",
       "align_content": null,
       "align_items": null,
       "align_self": null,
       "border": null,
       "bottom": null,
       "display": null,
       "flex": null,
       "flex_flow": null,
       "grid_area": null,
       "grid_auto_columns": null,
       "grid_auto_flow": null,
       "grid_auto_rows": null,
       "grid_column": null,
       "grid_gap": null,
       "grid_row": null,
       "grid_template_areas": null,
       "grid_template_columns": null,
       "grid_template_rows": null,
       "height": null,
       "justify_content": null,
       "justify_items": null,
       "left": null,
       "margin": null,
       "max_height": null,
       "max_width": null,
       "min_height": null,
       "min_width": null,
       "object_fit": null,
       "object_position": null,
       "order": null,
       "overflow": null,
       "overflow_x": null,
       "overflow_y": null,
       "padding": null,
       "right": null,
       "top": null,
       "visibility": null,
       "width": null
      }
     },
     "a6d7f698ef3f4327a610d6418e8403d6": {
      "model_module": "@jupyter-widgets/controls",
      "model_module_version": "1.5.0",
      "model_name": "ProgressStyleModel",
      "state": {
       "_model_module": "@jupyter-widgets/controls",
       "_model_module_version": "1.5.0",
       "_model_name": "ProgressStyleModel",
       "_view_count": null,
       "_view_module": "@jupyter-widgets/base",
       "_view_module_version": "1.2.0",
       "_view_name": "StyleView",
       "bar_color": null,
       "description_width": ""
      }
     },
     "ad022cec42ae4eb9981c1b040716255f": {
      "model_module": "@jupyter-widgets/base",
      "model_module_version": "1.2.0",
      "model_name": "LayoutModel",
      "state": {
       "_model_module": "@jupyter-widgets/base",
       "_model_module_version": "1.2.0",
       "_model_name": "LayoutModel",
       "_view_count": null,
       "_view_module": "@jupyter-widgets/base",
       "_view_module_version": "1.2.0",
       "_view_name": "LayoutView",
       "align_content": null,
       "align_items": null,
       "align_self": null,
       "border": null,
       "bottom": null,
       "display": null,
       "flex": null,
       "flex_flow": null,
       "grid_area": null,
       "grid_auto_columns": null,
       "grid_auto_flow": null,
       "grid_auto_rows": null,
       "grid_column": null,
       "grid_gap": null,
       "grid_row": null,
       "grid_template_areas": null,
       "grid_template_columns": null,
       "grid_template_rows": null,
       "height": null,
       "justify_content": null,
       "justify_items": null,
       "left": null,
       "margin": null,
       "max_height": null,
       "max_width": null,
       "min_height": null,
       "min_width": null,
       "object_fit": null,
       "object_position": null,
       "order": null,
       "overflow": null,
       "overflow_x": null,
       "overflow_y": null,
       "padding": null,
       "right": null,
       "top": null,
       "visibility": null,
       "width": null
      }
     },
     "bcc30c6fcaed4e23aaf6e0fb6fa60fe9": {
      "model_module": "@jupyter-widgets/controls",
      "model_module_version": "1.5.0",
      "model_name": "DescriptionStyleModel",
      "state": {
       "_model_module": "@jupyter-widgets/controls",
       "_model_module_version": "1.5.0",
       "_model_name": "DescriptionStyleModel",
       "_view_count": null,
       "_view_module": "@jupyter-widgets/base",
       "_view_module_version": "1.2.0",
       "_view_name": "StyleView",
       "description_width": ""
      }
     },
     "c06a12c98962423697a6761b67646ee5": {
      "model_module": "@jupyter-widgets/controls",
      "model_module_version": "1.5.0",
      "model_name": "HTMLModel",
      "state": {
       "_dom_classes": [],
       "_model_module": "@jupyter-widgets/controls",
       "_model_module_version": "1.5.0",
       "_model_name": "HTMLModel",
       "_view_count": null,
       "_view_module": "@jupyter-widgets/controls",
       "_view_module_version": "1.5.0",
       "_view_name": "HTMLView",
       "description": "",
       "description_tooltip": null,
       "layout": "IPY_MODEL_550a50b0e0154516a4a31fbdc66038cc",
       "placeholder": "​",
       "style": "IPY_MODEL_bcc30c6fcaed4e23aaf6e0fb6fa60fe9",
       "value": " 97.8M/97.8M [00:09&lt;00:00, 12.2MB/s]"
      }
     }
    },
    "version_major": 2,
    "version_minor": 0
   }
  }
 },
 "nbformat": 4,
 "nbformat_minor": 5
}
