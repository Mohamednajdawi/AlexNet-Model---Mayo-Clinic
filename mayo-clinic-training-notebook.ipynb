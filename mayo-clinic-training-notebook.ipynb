{
 "cells": [
  {
   "cell_type": "markdown",
   "id": "d927f55e",
   "metadata": {
    "papermill": {
     "duration": 0.007659,
     "end_time": "2022-08-22T10:22:07.083588",
     "exception": false,
     "start_time": "2022-08-22T10:22:07.075929",
     "status": "completed"
    },
    "tags": []
   },
   "source": [
    "# Library"
   ]
  },
  {
   "cell_type": "code",
   "execution_count": 1,
   "id": "5a75e069",
   "metadata": {
    "_cell_guid": "b1076dfc-b9ad-4769-8c92-a6c4dae69d19",
    "_uuid": "8f2839f25d086af736a60e9eeb907d3b93b6e0e5",
    "execution": {
     "iopub.execute_input": "2022-08-22T10:22:07.097979Z",
     "iopub.status.busy": "2022-08-22T10:22:07.097112Z",
     "iopub.status.idle": "2022-08-22T10:22:13.579755Z",
     "shell.execute_reply": "2022-08-22T10:22:13.578676Z"
    },
    "papermill": {
     "duration": 6.492867,
     "end_time": "2022-08-22T10:22:13.582499",
     "exception": false,
     "start_time": "2022-08-22T10:22:07.089632",
     "status": "completed"
    },
    "tags": []
   },
   "outputs": [],
   "source": [
    "import sys\n",
    "sys.path.append('../input/pytorch-image-models/pytorch-image-models-master')\n",
    "\n",
    "import IPython.display\n",
    "\n",
    "import os\n",
    "import math\n",
    "import time\n",
    "import random\n",
    "import shutil\n",
    "from pathlib import Path\n",
    "from contextlib import contextmanager\n",
    "from collections import defaultdict, Counter\n",
    "from PIL import Image\n",
    "from glob import glob\n",
    "import scipy as sp\n",
    "import numpy as np\n",
    "import pandas as pd\n",
    "#import Pyvips\n",
    "\n",
    "from sklearn import preprocessing\n",
    "from sklearn.metrics import roc_auc_score\n",
    "from sklearn.model_selection import StratifiedKFold, GroupKFold, KFold, train_test_split\n",
    "from skimage.filters import sobel\n",
    "from skimage import segmentation\n",
    "from skimage.color import label2rgb\n",
    "from skimage.color import rgb2hed, hed2rgb\n",
    "from skimage.exposure import rescale_intensity\n",
    "from skimage.measure import regionprops, regionprops_table\n",
    "from mpl_toolkits.axes_grid1 import ImageGrid\n",
    "from sklearn.preprocessing import StandardScaler\n",
    "from scipy import ndimage as ndi\n",
    "from matplotlib.patches import Rectangle\n",
    "from pytorch_lightning.callbacks.early_stopping import EarlyStopping\n",
    "\n",
    "\n",
    "\n",
    "import torchvision\n",
    "\n",
    "from tqdm.auto import tqdm\n",
    "from tqdm import trange\n",
    "from time import sleep\n",
    "from functools import partial\n",
    "import tifffile as tiff\n",
    "\n",
    "import cv2 as cv\n",
    "from openslide import OpenSlide\n",
    "import seaborn as sns\n",
    "from matplotlib import pyplot as plt\n",
    "from pprint import pprint\n",
    "\n",
    "import torch\n",
    "import torch.nn as nn\n",
    "import torch.nn.functional as F\n",
    "from torch.optim import Adam, SGD\n",
    "import torchvision.models as models\n",
    "from torch.nn.parameter import Parameter\n",
    "from torch.utils.data import DataLoader, Dataset\n",
    "from torch.optim.lr_scheduler import CosineAnnealingWarmRestarts, CosineAnnealingLR, ReduceLROnPlateau\n",
    "import torchvision.transforms as transforms\n",
    "import torch.optim as optim\n",
    "import gc\n",
    "import torchvision.models as models\n",
    "import copy\n",
    "\n",
    "\n",
    "OUTPUT_DIR = './'\n",
    "if not os.path.exists(OUTPUT_DIR):\n",
    "    os.makedirs(OUTPUT_DIR)\n",
    "\n",
    "from torch.cuda.amp import autocast, GradScaler\n",
    "Image.MAX_IMAGE_PIXELS = None\n",
    "import warnings\n",
    "warnings.filterwarnings('ignore')\n",
    "\n",
    "device = torch.device('cuda' if torch.cuda.is_available() else 'cpu')\n"
   ]
  },
  {
   "cell_type": "markdown",
   "id": "05725a76",
   "metadata": {
    "papermill": {
     "duration": 0.005728,
     "end_time": "2022-08-22T10:22:13.594279",
     "exception": false,
     "start_time": "2022-08-22T10:22:13.588551",
     "status": "completed"
    },
    "tags": []
   },
   "source": [
    "# Loading data"
   ]
  },
  {
   "cell_type": "code",
   "execution_count": 2,
   "id": "3bef1ea4",
   "metadata": {
    "execution": {
     "iopub.execute_input": "2022-08-22T10:22:13.608006Z",
     "iopub.status.busy": "2022-08-22T10:22:13.607028Z",
     "iopub.status.idle": "2022-08-22T10:22:13.636501Z",
     "shell.execute_reply": "2022-08-22T10:22:13.635505Z"
    },
    "papermill": {
     "duration": 0.038586,
     "end_time": "2022-08-22T10:22:13.638676",
     "exception": false,
     "start_time": "2022-08-22T10:22:13.600090",
     "status": "completed"
    },
    "tags": []
   },
   "outputs": [],
   "source": [
    "transformed_train = pd.read_csv('../input/mayo-clinic-output/new_train.csv')\n",
    "test = pd.read_csv('../input/mayo-clinic-strip-ai/test.csv')\n",
    "train, valid = train_test_split(transformed_train, test_size=0.2)\n",
    "classes_name = [\"LAA\",\"CE\"]\n",
    "\n"
   ]
  },
  {
   "cell_type": "markdown",
   "id": "23a01b57",
   "metadata": {
    "papermill": {
     "duration": 0.005822,
     "end_time": "2022-08-22T10:22:13.650669",
     "exception": false,
     "start_time": "2022-08-22T10:22:13.644847",
     "status": "completed"
    },
    "tags": []
   },
   "source": [
    "# Test Transformation "
   ]
  },
  {
   "cell_type": "code",
   "execution_count": 3,
   "id": "e5e8be4c",
   "metadata": {
    "execution": {
     "iopub.execute_input": "2022-08-22T10:22:13.664250Z",
     "iopub.status.busy": "2022-08-22T10:22:13.663423Z",
     "iopub.status.idle": "2022-08-22T10:22:13.668942Z",
     "shell.execute_reply": "2022-08-22T10:22:13.668108Z"
    },
    "papermill": {
     "duration": 0.014141,
     "end_time": "2022-08-22T10:22:13.670859",
     "exception": false,
     "start_time": "2022-08-22T10:22:13.656718",
     "status": "completed"
    },
    "tags": []
   },
   "outputs": [],
   "source": [
    "def rezie_image(image):\n",
    "    resized_image = cv.resize(image,(int(image.shape[1]/33),int(image.shape[0]/33)),interpolation= cv.INTER_LINEAR)\n",
    "    return resized_image\n"
   ]
  },
  {
   "cell_type": "code",
   "execution_count": 4,
   "id": "30701339",
   "metadata": {
    "execution": {
     "iopub.execute_input": "2022-08-22T10:22:13.684608Z",
     "iopub.status.busy": "2022-08-22T10:22:13.683672Z",
     "iopub.status.idle": "2022-08-22T10:22:13.688624Z",
     "shell.execute_reply": "2022-08-22T10:22:13.687781Z"
    },
    "papermill": {
     "duration": 0.013439,
     "end_time": "2022-08-22T10:22:13.690550",
     "exception": false,
     "start_time": "2022-08-22T10:22:13.677111",
     "status": "completed"
    },
    "tags": []
   },
   "outputs": [],
   "source": [
    "def grey_resize(image):\n",
    "    gray_resized_image = cv.cvtColor(image, cv.COLOR_RGB2GRAY)    \n",
    "    return gray_resized_image\n"
   ]
  },
  {
   "cell_type": "code",
   "execution_count": 5,
   "id": "03aefe47",
   "metadata": {
    "execution": {
     "iopub.execute_input": "2022-08-22T10:22:13.704903Z",
     "iopub.status.busy": "2022-08-22T10:22:13.704068Z",
     "iopub.status.idle": "2022-08-22T10:22:13.710028Z",
     "shell.execute_reply": "2022-08-22T10:22:13.709217Z"
    },
    "papermill": {
     "duration": 0.015469,
     "end_time": "2022-08-22T10:22:13.711972",
     "exception": false,
     "start_time": "2022-08-22T10:22:13.696503",
     "status": "completed"
    },
    "tags": []
   },
   "outputs": [],
   "source": [
    "def labeled_segment(grey_resized_image):\n",
    "    elevation_map = sobel(grey_resized_image)\n",
    "    markers = np.zeros_like(grey_resized_image)\n",
    "    markers[grey_resized_image >= grey_resized_image.mean()] = 1\n",
    "    markers[grey_resized_image < grey_resized_image.mean()] = 2\n",
    "    segmented_img = segmentation.watershed(elevation_map, markers)\n",
    "    filled_segments = ndi.binary_fill_holes(segmented_img - 1)\n",
    "    labeled_segments, _ = ndi.label(filled_segments)\n",
    "    return labeled_segments\n"
   ]
  },
  {
   "cell_type": "code",
   "execution_count": 6,
   "id": "8a76c8de",
   "metadata": {
    "execution": {
     "iopub.execute_input": "2022-08-22T10:22:13.726423Z",
     "iopub.status.busy": "2022-08-22T10:22:13.724761Z",
     "iopub.status.idle": "2022-08-22T10:22:13.731143Z",
     "shell.execute_reply": "2022-08-22T10:22:13.730343Z"
    },
    "papermill": {
     "duration": 0.015657,
     "end_time": "2022-08-22T10:22:13.733543",
     "exception": false,
     "start_time": "2022-08-22T10:22:13.717886",
     "status": "completed"
    },
    "tags": []
   },
   "outputs": [],
   "source": [
    "def plot_labeled_segments(labeled_segments, resized_gray_img):\n",
    "    image_label_overlay = label2rgb(labeled_segments, image=resized_gray_img, bg_label=0)\n",
    "    fig, ax = plt.subplots(figsize=(10, 8))\n",
    "    ax.imshow(image_label_overlay, cmap=plt.cm.gray)\n",
    "    ax.set_title('segmentation')\n",
    "    ax.axis('off')\n"
   ]
  },
  {
   "cell_type": "code",
   "execution_count": 7,
   "id": "6b88db19",
   "metadata": {
    "execution": {
     "iopub.execute_input": "2022-08-22T10:22:13.748200Z",
     "iopub.status.busy": "2022-08-22T10:22:13.746642Z",
     "iopub.status.idle": "2022-08-22T10:22:13.753567Z",
     "shell.execute_reply": "2022-08-22T10:22:13.752731Z"
    },
    "papermill": {
     "duration": 0.015723,
     "end_time": "2022-08-22T10:22:13.755538",
     "exception": false,
     "start_time": "2022-08-22T10:22:13.739815",
     "status": "completed"
    },
    "tags": []
   },
   "outputs": [],
   "source": [
    "def get_object_coordinates(labeled_segments):\n",
    "    properties =['area','bbox','convex_area','bbox_area', 'major_axis_length', 'minor_axis_length', 'eccentricity']\n",
    "    df = pd.DataFrame(regionprops_table(labeled_segments, properties=properties))\n",
    "    standard_scaler = StandardScaler()\n",
    "    scaled_area = standard_scaler.fit_transform(df.area.values.reshape(-1,1))\n",
    "    df['scaled_area'] = scaled_area\n",
    "    df.sort_values(by=\"scaled_area\", ascending=False, inplace=True)\n",
    "    objects = df[df['scaled_area']>=.75]\n",
    "    object_coordinates = [(row['bbox-0'],row['bbox-1'],row['bbox-2'],row['bbox-3'] )for index, row in objects.iterrows()]\n",
    "    return object_coordinates\n"
   ]
  },
  {
   "cell_type": "code",
   "execution_count": 8,
   "id": "cce64ae3",
   "metadata": {
    "execution": {
     "iopub.execute_input": "2022-08-22T10:22:13.768366Z",
     "iopub.status.busy": "2022-08-22T10:22:13.767803Z",
     "iopub.status.idle": "2022-08-22T10:22:13.773025Z",
     "shell.execute_reply": "2022-08-22T10:22:13.772142Z"
    },
    "papermill": {
     "duration": 0.01375,
     "end_time": "2022-08-22T10:22:13.775014",
     "exception": false,
     "start_time": "2022-08-22T10:22:13.761264",
     "status": "completed"
    },
    "tags": []
   },
   "outputs": [],
   "source": [
    "def plot_object_coordinates(object_coordinates, resized_image):\n",
    "    fig, ax = plt.subplots(1,1, figsize=(18, 16), dpi = 80)\n",
    "    for blob in object_coordinates:\n",
    "        width = blob[3] - blob[1]\n",
    "        height = blob[2] - blob[0]\n",
    "        patch = Rectangle((blob[1],blob[0]), width, height, edgecolor='r', facecolor='none')\n"
   ]
  },
  {
   "cell_type": "code",
   "execution_count": 9,
   "id": "252fafd8",
   "metadata": {
    "execution": {
     "iopub.execute_input": "2022-08-22T10:22:13.787527Z",
     "iopub.status.busy": "2022-08-22T10:22:13.787273Z",
     "iopub.status.idle": "2022-08-22T10:22:13.793666Z",
     "shell.execute_reply": "2022-08-22T10:22:13.792643Z"
    },
    "papermill": {
     "duration": 0.015413,
     "end_time": "2022-08-22T10:22:13.796174",
     "exception": false,
     "start_time": "2022-08-22T10:22:13.780761",
     "status": "completed"
    },
    "tags": []
   },
   "outputs": [],
   "source": [
    "def save_objects(object_coordinates, image, image_name, count):\n",
    "    plt.figure(figsize=(10,18))\n",
    "    for i in range(len(object_coordinates)):\n",
    "        coordinates = object_coordinates[i]\n",
    "        object_image = image[int(coordinates[0]):int(coordinates[2]), int(coordinates[1]):int(coordinates[3])]\n",
    "        image_new_name = image_name + \"_\" + str(i)\n",
    "        new_test[\"image_name\"].append(image_new_name)\n",
    "        new_test[\"image_count\"].append(count)\n",
    "        cv.imwrite(os.path.join(\"./\", f\"{image_new_name}.jpg\"), object_image)\n"
   ]
  },
  {
   "cell_type": "code",
   "execution_count": 10,
   "id": "f5da91e1",
   "metadata": {
    "execution": {
     "iopub.execute_input": "2022-08-22T10:22:13.808896Z",
     "iopub.status.busy": "2022-08-22T10:22:13.808638Z",
     "iopub.status.idle": "2022-08-22T10:23:32.533854Z",
     "shell.execute_reply": "2022-08-22T10:23:32.532869Z"
    },
    "papermill": {
     "duration": 78.739765,
     "end_time": "2022-08-22T10:23:32.542003",
     "exception": false,
     "start_time": "2022-08-22T10:22:13.802238",
     "status": "completed"
    },
    "tags": []
   },
   "outputs": [
    {
     "data": {
      "text/plain": [
       "<Figure size 720x1296 with 0 Axes>"
      ]
     },
     "metadata": {},
     "output_type": "display_data"
    },
    {
     "data": {
      "text/plain": [
       "<Figure size 720x1296 with 0 Axes>"
      ]
     },
     "metadata": {},
     "output_type": "display_data"
    },
    {
     "data": {
      "text/plain": [
       "<Figure size 720x1296 with 0 Axes>"
      ]
     },
     "metadata": {},
     "output_type": "display_data"
    },
    {
     "data": {
      "text/plain": [
       "<Figure size 720x1296 with 0 Axes>"
      ]
     },
     "metadata": {},
     "output_type": "display_data"
    }
   ],
   "source": [
    "test_path = \"../input/mayo-clinic-strip-ai/test\"\n",
    "Image_names = test['image_id'].values\n",
    "new_test={\"image_count\":[],\"image_name\":[]}\n",
    "count = 1\n",
    "scale = 4\n",
    "for image_name in Image_names:\n",
    "    image = tiff.imread(os.path.join(test_path, f\"{image_name}.tif\"))\n",
    "    resized_image=rezie_image(image)\n",
    "    del image\n",
    "    gc.collect()\n",
    "    grey_resized_image = grey_resize(resized_image)\n",
    "    labeled_segments = labeled_segment(grey_resized_image)\n",
    "    object_coordinates = get_object_coordinates(labeled_segments)\n",
    "    save_objects(object_coordinates, resized_image, image_name,count)\n",
    "    \n",
    "new_test=pd.DataFrame.from_dict(new_test)\n"
   ]
  },
  {
   "cell_type": "markdown",
   "id": "95d3d026",
   "metadata": {
    "papermill": {
     "duration": 0.006511,
     "end_time": "2022-08-22T10:23:32.555141",
     "exception": false,
     "start_time": "2022-08-22T10:23:32.548630",
     "status": "completed"
    },
    "tags": []
   },
   "source": [
    "# Data Loader"
   ]
  },
  {
   "cell_type": "code",
   "execution_count": 11,
   "id": "6d4a1018",
   "metadata": {
    "execution": {
     "iopub.execute_input": "2022-08-22T10:23:32.569226Z",
     "iopub.status.busy": "2022-08-22T10:23:32.568925Z",
     "iopub.status.idle": "2022-08-22T10:23:32.576247Z",
     "shell.execute_reply": "2022-08-22T10:23:32.575339Z"
    },
    "papermill": {
     "duration": 0.016813,
     "end_time": "2022-08-22T10:23:32.578189",
     "exception": false,
     "start_time": "2022-08-22T10:23:32.561376",
     "status": "completed"
    },
    "tags": []
   },
   "outputs": [],
   "source": [
    "class TrainDataset(Dataset):\n",
    "    def __init__(self, path, df,phase, transform=None):\n",
    "        self.df = df\n",
    "        self.path = path\n",
    "        self.Image_names = df['image_name'].values\n",
    "        self.phase = phase\n",
    "        if phase ==\"train\":\n",
    "            self.labels = df['label'].values\n",
    "        self.transform = transform\n",
    "        \n",
    "    def __len__(self):\n",
    "        return len(self.df)\n",
    "\n",
    "    def __getitem__(self, idx):\n",
    "        file_name = self.Image_names[idx]\n",
    "        img= Image.open(os.path.join(self.path, f\"{file_name}.jpg\"))\n",
    "        if self.transform:\n",
    "            image=self.transform(img)\n",
    "        if self.phase ==\"train\":\n",
    "            label = self.labels[idx]\n",
    "            return image, torch.tensor(label), file_name\n",
    "        else:\n",
    "            return image, file_name\n",
    "        "
   ]
  },
  {
   "cell_type": "markdown",
   "id": "760d44b0",
   "metadata": {
    "papermill": {
     "duration": 0.005767,
     "end_time": "2022-08-22T10:23:32.590018",
     "exception": false,
     "start_time": "2022-08-22T10:23:32.584251",
     "status": "completed"
    },
    "tags": []
   },
   "source": [
    "# Transforms"
   ]
  },
  {
   "cell_type": "code",
   "execution_count": 12,
   "id": "f87959b0",
   "metadata": {
    "execution": {
     "iopub.execute_input": "2022-08-22T10:23:32.603748Z",
     "iopub.status.busy": "2022-08-22T10:23:32.602821Z",
     "iopub.status.idle": "2022-08-22T10:23:32.611531Z",
     "shell.execute_reply": "2022-08-22T10:23:32.610671Z"
    },
    "papermill": {
     "duration": 0.017515,
     "end_time": "2022-08-22T10:23:32.613513",
     "exception": false,
     "start_time": "2022-08-22T10:23:32.595998",
     "status": "completed"
    },
    "tags": []
   },
   "outputs": [],
   "source": [
    "batch_size=64\n",
    "data_transform = transforms.Compose([\n",
    "        transforms.Resize((256,256)),\n",
    "        transforms.ToTensor(), transforms.RandomHorizontalFlip(),transforms.RandomVerticalFlip(),\n",
    "        transforms.Normalize(mean=[0.485, 0.456, 0.406],\n",
    "                             std=[0.229, 0.224, 0.225])\n",
    "    ])\n",
    "train_dataset = TrainDataset(\"../input/mayo-clinic-output/\", train,phase=\"train\", transform = data_transform)\n",
    "valid_dataset = TrainDataset(\"../input/mayo-clinic-output/\", valid,phase=\"train\", transform = data_transform)\n",
    "test_dataset = TrainDataset(\"./\", new_test,phase=\"test\", transform = data_transform)\n",
    "\n",
    "train_dl = torch.utils.data.DataLoader(train_dataset,\n",
    "                                             batch_size=batch_size, shuffle=True,\n",
    "                                             num_workers=0)\n",
    "valid_dl = torch.utils.data.DataLoader(valid_dataset,\n",
    "                                             batch_size=batch_size, shuffle=True,\n",
    "                                             num_workers=0)\n",
    "test_dl = torch.utils.data.DataLoader(test_dataset,\n",
    "                                             batch_size=1, shuffle=True,\n",
    "                                             num_workers=0)\n"
   ]
  },
  {
   "cell_type": "code",
   "execution_count": 13,
   "id": "5fd050e9",
   "metadata": {
    "execution": {
     "iopub.execute_input": "2022-08-22T10:23:32.626626Z",
     "iopub.status.busy": "2022-08-22T10:23:32.626369Z",
     "iopub.status.idle": "2022-08-22T10:23:32.631397Z",
     "shell.execute_reply": "2022-08-22T10:23:32.630493Z"
    },
    "papermill": {
     "duration": 0.013844,
     "end_time": "2022-08-22T10:23:32.633391",
     "exception": false,
     "start_time": "2022-08-22T10:23:32.619547",
     "status": "completed"
    },
    "tags": []
   },
   "outputs": [],
   "source": [
    "def imshow(axis, inp):\n",
    "    \"\"\"Denormalize and show\"\"\"\n",
    "    inp = inp.numpy().transpose((1, 2, 0))\n",
    "    mean = np.array([0.485, 0.456, 0.406])\n",
    "    std = np.array([0.229, 0.224, 0.225])\n",
    "    inp = std * inp + mean\n",
    "    axis.imshow(inp)\n"
   ]
  },
  {
   "cell_type": "markdown",
   "id": "e3cabe00",
   "metadata": {
    "papermill": {
     "duration": 0.005773,
     "end_time": "2022-08-22T10:23:32.645159",
     "exception": false,
     "start_time": "2022-08-22T10:23:32.639386",
     "status": "completed"
    },
    "tags": []
   },
   "source": [
    "# PreTrained Model"
   ]
  },
  {
   "cell_type": "code",
   "execution_count": 14,
   "id": "947c8324",
   "metadata": {
    "execution": {
     "iopub.execute_input": "2022-08-22T10:23:32.658780Z",
     "iopub.status.busy": "2022-08-22T10:23:32.658226Z",
     "iopub.status.idle": "2022-08-22T10:23:37.317372Z",
     "shell.execute_reply": "2022-08-22T10:23:37.316450Z"
    },
    "papermill": {
     "duration": 4.668687,
     "end_time": "2022-08-22T10:23:37.319917",
     "exception": false,
     "start_time": "2022-08-22T10:23:32.651230",
     "status": "completed"
    },
    "tags": []
   },
   "outputs": [],
   "source": [
    "use_gpu = torch.cuda.is_available()\n",
    "model_ft = torchvision.models.resnet50(pretrained=False)\n",
    "model_ft.load_state_dict(torch.load(\"../input/pretrained-model-weights-pytorch/resnet50-19c8e357.pth\"))\n",
    "#model_ft = models.resnet50(pretrained=True)\n",
    "num_ftrs = model_ft.fc.in_features\n",
    "model_ft.fc = nn.Linear(num_ftrs, 2)\n",
    "model_ft=model_ft.to(device)\n",
    "\n",
    "criterion = nn.CrossEntropyLoss()\n",
    "optimizer = optim.SGD(model_ft.parameters(), lr=0.01, momentum=0.9)\n",
    "exp_lr_scheduler = torch.optim.lr_scheduler.StepLR(optimizer, step_size=7, gamma=0.1)\n",
    "\n"
   ]
  },
  {
   "cell_type": "markdown",
   "id": "efc8a7ae",
   "metadata": {
    "papermill": {
     "duration": 0.006576,
     "end_time": "2022-08-22T10:23:37.332864",
     "exception": false,
     "start_time": "2022-08-22T10:23:37.326288",
     "status": "completed"
    },
    "tags": []
   },
   "source": [
    "# Training"
   ]
  },
  {
   "cell_type": "code",
   "execution_count": 15,
   "id": "480a9134",
   "metadata": {
    "execution": {
     "iopub.execute_input": "2022-08-22T10:23:37.346689Z",
     "iopub.status.busy": "2022-08-22T10:23:37.346074Z",
     "iopub.status.idle": "2022-08-22T10:23:37.358561Z",
     "shell.execute_reply": "2022-08-22T10:23:37.357707Z"
    },
    "papermill": {
     "duration": 0.021563,
     "end_time": "2022-08-22T10:23:37.360530",
     "exception": false,
     "start_time": "2022-08-22T10:23:37.338967",
     "status": "completed"
    },
    "tags": []
   },
   "outputs": [],
   "source": [
    "def train_model(dataloders, model, criterion, optimizer, scheduler, num_epochs=25):\n",
    "    since = time.time()\n",
    "    best_model_wts = model.state_dict()\n",
    "    best_acc = 0.0\n",
    "    dataset_sizes = {'train': len(dataloders['train'].dataset), \n",
    "                     'valid': len(dataloders['valid'].dataset)}\n",
    "\n",
    "    for epoch in range(num_epochs):\n",
    "        for phase in ['train', 'valid']:\n",
    "            if phase == 'train':\n",
    "                scheduler.step()\n",
    "                model.train(True)\n",
    "            else:\n",
    "                model.train(False)\n",
    "\n",
    "            running_loss = 0.0\n",
    "            running_corrects = 0\n",
    "\n",
    "            for inputs, labels, _ in dataloders[phase]:\n",
    "                if use_gpu:\n",
    "                    inputs = inputs.to(device)\n",
    "                    labels = labels.to(device)\n",
    "                else:\n",
    "                    inputs = inputs.to(device)\n",
    "                    labels = labels.to(device)\n",
    "\n",
    "                optimizer.zero_grad()\n",
    "\n",
    "                outputs = model(inputs)\n",
    "                _, preds = torch.max(outputs.data, 1)\n",
    "                loss = criterion(outputs, labels)\n",
    "\n",
    "                if phase == 'train':\n",
    "                    loss.backward()\n",
    "                    optimizer.step()\n",
    "\n",
    "                running_loss += loss.data\n",
    "                running_corrects += torch.sum(preds == labels.data)\n",
    "                del inputs, labels\n",
    "                torch.cuda.empty_cache()\n",
    "                gc.collect()\n",
    "            \n",
    "            if phase == 'train':\n",
    "                train_epoch_loss = running_loss / dataset_sizes[phase]\n",
    "                train_epoch_acc = running_corrects / dataset_sizes[phase]\n",
    "            else:\n",
    "                valid_epoch_loss = running_loss / dataset_sizes[phase]\n",
    "                valid_epoch_acc = running_corrects / dataset_sizes[phase]\n",
    "                \n",
    "            if phase == 'valid' and valid_epoch_acc > best_acc:\n",
    "                best_acc = valid_epoch_acc\n",
    "                best_model_wts = model.state_dict()\n",
    "\n",
    "        print('Epoch [{}/{}] train loss: {:.4f} acc: {:.4f} ' \n",
    "              'valid loss: {:.4f} acc: {:.4f}'.format(\n",
    "                epoch, num_epochs - 1,\n",
    "                train_epoch_loss, train_epoch_acc, \n",
    "                valid_epoch_loss, valid_epoch_acc))\n",
    "            \n",
    "    print('Best val Acc: {:4f}'.format(best_acc))\n",
    "\n",
    "    model.load_state_dict(best_model_wts)\n",
    "    return model"
   ]
  },
  {
   "cell_type": "code",
   "execution_count": 16,
   "id": "a377fafa",
   "metadata": {
    "execution": {
     "iopub.execute_input": "2022-08-22T10:23:37.374348Z",
     "iopub.status.busy": "2022-08-22T10:23:37.373409Z",
     "iopub.status.idle": "2022-08-22T10:51:22.738870Z",
     "shell.execute_reply": "2022-08-22T10:51:22.737924Z"
    },
    "papermill": {
     "duration": 1665.382173,
     "end_time": "2022-08-22T10:51:22.748799",
     "exception": false,
     "start_time": "2022-08-22T10:23:37.366626",
     "status": "completed"
    },
    "tags": []
   },
   "outputs": [
    {
     "name": "stdout",
     "output_type": "stream",
     "text": [
      "Epoch [0/19] train loss: 0.0110 acc: 0.6589 valid loss: 0.0109 acc: 0.6092\n",
      "Epoch [1/19] train loss: 0.0103 acc: 0.6670 valid loss: 0.0093 acc: 0.7026\n",
      "Epoch [2/19] train loss: 0.0083 acc: 0.7450 valid loss: 0.0086 acc: 0.7507\n",
      "Epoch [3/19] train loss: 0.0076 acc: 0.7611 valid loss: 0.0115 acc: 0.6047\n",
      "Epoch [4/19] train loss: 0.0073 acc: 0.7817 valid loss: 0.0085 acc: 0.7289\n",
      "Epoch [5/19] train loss: 0.0068 acc: 0.7958 valid loss: 0.0089 acc: 0.7362\n",
      "Epoch [6/19] train loss: 0.0055 acc: 0.8509 valid loss: 0.0074 acc: 0.7933\n",
      "Epoch [7/19] train loss: 0.0044 acc: 0.8819 valid loss: 0.0074 acc: 0.7906\n",
      "Epoch [8/19] train loss: 0.0039 acc: 0.8982 valid loss: 0.0080 acc: 0.7978\n",
      "Epoch [9/19] train loss: 0.0033 acc: 0.9130 valid loss: 0.0086 acc: 0.7869\n",
      "Epoch [10/19] train loss: 0.0029 acc: 0.9254 valid loss: 0.0088 acc: 0.7743\n",
      "Epoch [11/19] train loss: 0.0025 acc: 0.9386 valid loss: 0.0087 acc: 0.8042\n",
      "Epoch [12/19] train loss: 0.0025 acc: 0.9399 valid loss: 0.0093 acc: 0.8060\n",
      "Epoch [13/19] train loss: 0.0017 acc: 0.9608 valid loss: 0.0090 acc: 0.8051\n",
      "Epoch [14/19] train loss: 0.0016 acc: 0.9628 valid loss: 0.0092 acc: 0.8060\n",
      "Epoch [15/19] train loss: 0.0015 acc: 0.9676 valid loss: 0.0084 acc: 0.8187\n",
      "Epoch [16/19] train loss: 0.0014 acc: 0.9689 valid loss: 0.0089 acc: 0.8169\n",
      "Epoch [17/19] train loss: 0.0014 acc: 0.9665 valid loss: 0.0087 acc: 0.8132\n",
      "Epoch [18/19] train loss: 0.0013 acc: 0.9733 valid loss: 0.0092 acc: 0.8042\n",
      "Epoch [19/19] train loss: 0.0013 acc: 0.9735 valid loss: 0.0100 acc: 0.7924\n",
      "Best val Acc: 0.818676\n",
      "Training time:  27.755981 minutes\n"
     ]
    }
   ],
   "source": [
    "dloaders = {'train':train_dl, 'valid':valid_dl}\n",
    "start_time = time.time()\n",
    "model = train_model(dloaders, model_ft, criterion, optimizer, exp_lr_scheduler, num_epochs=20)\n",
    "del model_ft\n",
    "torch.cuda.empty_cache()\n",
    "gc.collect()\n",
    "print('Training time: {:10f} minutes'.format((time.time()-start_time)/60))"
   ]
  },
  {
   "cell_type": "code",
   "execution_count": 17,
   "id": "7ba413cc",
   "metadata": {
    "execution": {
     "iopub.execute_input": "2022-08-22T10:51:22.764382Z",
     "iopub.status.busy": "2022-08-22T10:51:22.764073Z",
     "iopub.status.idle": "2022-08-22T10:51:22.774888Z",
     "shell.execute_reply": "2022-08-22T10:51:22.773839Z"
    },
    "papermill": {
     "duration": 0.021109,
     "end_time": "2022-08-22T10:51:22.777048",
     "exception": false,
     "start_time": "2022-08-22T10:51:22.755939",
     "status": "completed"
    },
    "tags": []
   },
   "outputs": [],
   "source": [
    "def visualize_model(dataloders, model, num_images=25):\n",
    "    cnt = 0\n",
    "    fig = plt.figure(1, figsize=(20, 20))\n",
    "    grid = ImageGrid(fig, 111, nrows_ncols=(5, 5), axes_pad=0.05)\n",
    "    for i, (inputs, labels, file_name) in enumerate(dataloders['valid']):\n",
    "        if use_gpu:\n",
    "            inputs = inputs.to(device)\n",
    "            labels = labels.to(device)\n",
    "        else:\n",
    "            inputs = inputs.to(device)\n",
    "            labels = labels.to(device)\n",
    "\n",
    "        outputs = model(inputs)\n",
    "        _, preds = torch.max(outputs.data, 1)\n",
    "        sm = torch.nn.Softmax()\n",
    "        probabilities = sm(outputs).tolist()\n",
    "        rounded_prob = [np.round(num, 1) for num in probabilities]\n",
    "        for j in range(inputs.size()[0]):\n",
    "            ax = grid[cnt]\n",
    "            imshow(ax, inputs.cpu().data[j])\n",
    "            ax.text(10, 20, 'ID: {} '.format(file_name[j]),color='k', backgroundcolor='w', alpha=0.8,size=\"small\")\n",
    "            ax.text(10, 230, 'Predicted {} || Actual {}'.format(classes_name[preds[j]], classes_name[labels.data[j]]), \n",
    "                    color='k', backgroundcolor='w', alpha=0.8,size=\"small\")\n",
    "            ax.text(10, 245,rounded_prob[j],color='k', backgroundcolor='w', alpha=0.8,size=\"small\")\n",
    "            cnt += 1\n",
    "            if cnt == num_images:\n",
    "                del inputs, labels\n",
    "                torch.cuda.empty_cache()\n",
    "                gc.collect()\n",
    "                return"
   ]
  },
  {
   "cell_type": "code",
   "execution_count": 18,
   "id": "fef3fd8c",
   "metadata": {
    "execution": {
     "iopub.execute_input": "2022-08-22T10:51:22.792372Z",
     "iopub.status.busy": "2022-08-22T10:51:22.792085Z",
     "iopub.status.idle": "2022-08-22T10:51:22.797375Z",
     "shell.execute_reply": "2022-08-22T10:51:22.796543Z"
    },
    "papermill": {
     "duration": 0.015117,
     "end_time": "2022-08-22T10:51:22.799273",
     "exception": false,
     "start_time": "2022-08-22T10:51:22.784156",
     "status": "completed"
    },
    "tags": []
   },
   "outputs": [],
   "source": [
    "#visualize_model(dloaders, model)\n"
   ]
  },
  {
   "cell_type": "markdown",
   "id": "b900a5dd",
   "metadata": {
    "papermill": {
     "duration": 0.006761,
     "end_time": "2022-08-22T10:51:22.813089",
     "exception": false,
     "start_time": "2022-08-22T10:51:22.806328",
     "status": "completed"
    },
    "tags": []
   },
   "source": [
    "# Submission"
   ]
  },
  {
   "cell_type": "code",
   "execution_count": 19,
   "id": "567ec62c",
   "metadata": {
    "execution": {
     "iopub.execute_input": "2022-08-22T10:51:22.829820Z",
     "iopub.status.busy": "2022-08-22T10:51:22.828975Z",
     "iopub.status.idle": "2022-08-22T10:51:22.839722Z",
     "shell.execute_reply": "2022-08-22T10:51:22.838831Z"
    },
    "papermill": {
     "duration": 0.021428,
     "end_time": "2022-08-22T10:51:22.841706",
     "exception": false,
     "start_time": "2022-08-22T10:51:22.820278",
     "status": "completed"
    },
    "tags": []
   },
   "outputs": [],
   "source": [
    "def submission(dataloders, model):\n",
    "    prob_data = {\"ID\":[],\"prob\":[]}\n",
    "    if dataloders ==dloaders:\n",
    "        dataloders = dataloders['valid']\n",
    "        \n",
    "    for i, (inputs, file_name) in enumerate(dataloders):\n",
    "        if use_gpu:\n",
    "            inputs = inputs.to(device)\n",
    "            \n",
    "        outputs = model(inputs)\n",
    "        _, preds = torch.max(outputs.data, 1)\n",
    "        sm = torch.nn.Softmax()\n",
    "        probabilities = sm(outputs).tolist()\n",
    "        rounded_prob = [np.round(num, 1) for num in probabilities]\n",
    "        \n",
    "        for i in range(inputs.size()[0]):\n",
    "            prob_data[\"ID\"].append(file_name[i])\n",
    "            prob_data[\"prob\"].append(rounded_prob[i])\n",
    "            \n",
    "        del inputs\n",
    "        torch.cuda.empty_cache()\n",
    "        gc.collect()\n",
    "    prob_data= pd.DataFrame.from_dict(prob_data)\n",
    "    prob_data['patient_id'], prob_data['image_nu'],prob_data['split_nu'] = prob_data['ID'].str.split('_').str\n",
    "    prob_data[['LAA','CE']] = pd.DataFrame(prob_data.prob.tolist(), index= prob_data.index)\n",
    "    prob_data_submission = prob_data.drop(['ID', 'prob','image_nu','split_nu'], axis=1)\n",
    "    avg = prob_data_submission.groupby('patient_id',as_index=False).mean()\n",
    "    avg = avg[['patient_id','CE','LAA']]\n",
    "    return avg\n",
    "    "
   ]
  },
  {
   "cell_type": "code",
   "execution_count": 20,
   "id": "a752f2bd",
   "metadata": {
    "execution": {
     "iopub.execute_input": "2022-08-22T10:51:22.858127Z",
     "iopub.status.busy": "2022-08-22T10:51:22.856740Z",
     "iopub.status.idle": "2022-08-22T10:51:31.902056Z",
     "shell.execute_reply": "2022-08-22T10:51:31.901119Z"
    },
    "papermill": {
     "duration": 9.056384,
     "end_time": "2022-08-22T10:51:31.905115",
     "exception": false,
     "start_time": "2022-08-22T10:51:22.848731",
     "status": "completed"
    },
    "tags": []
   },
   "outputs": [],
   "source": [
    "sub=submission(test_dl, model)\n"
   ]
  },
  {
   "cell_type": "code",
   "execution_count": 21,
   "id": "649271fd",
   "metadata": {
    "execution": {
     "iopub.execute_input": "2022-08-22T10:51:31.929867Z",
     "iopub.status.busy": "2022-08-22T10:51:31.929438Z",
     "iopub.status.idle": "2022-08-22T10:51:31.937558Z",
     "shell.execute_reply": "2022-08-22T10:51:31.936692Z"
    },
    "papermill": {
     "duration": 0.02288,
     "end_time": "2022-08-22T10:51:31.940044",
     "exception": false,
     "start_time": "2022-08-22T10:51:31.917164",
     "status": "completed"
    },
    "tags": []
   },
   "outputs": [],
   "source": [
    "sub.to_csv('submission.csv',index=False)\n"
   ]
  },
  {
   "cell_type": "code",
   "execution_count": 22,
   "id": "7d9b5dfa",
   "metadata": {
    "execution": {
     "iopub.execute_input": "2022-08-22T10:51:31.963610Z",
     "iopub.status.busy": "2022-08-22T10:51:31.963297Z",
     "iopub.status.idle": "2022-08-22T10:51:31.968803Z",
     "shell.execute_reply": "2022-08-22T10:51:31.967958Z"
    },
    "papermill": {
     "duration": 0.022825,
     "end_time": "2022-08-22T10:51:31.974174",
     "exception": false,
     "start_time": "2022-08-22T10:51:31.951349",
     "status": "completed"
    },
    "tags": []
   },
   "outputs": [
    {
     "name": "stdout",
     "output_type": "stream",
     "text": [
      "|===========================================================================|\n",
      "|                  PyTorch CUDA memory summary, device ID 0                 |\n",
      "|---------------------------------------------------------------------------|\n",
      "|            CUDA OOMs: 0            |        cudaMalloc retries: 0         |\n",
      "|===========================================================================|\n",
      "|        Metric         | Cur Usage  | Peak Usage | Tot Alloc  | Tot Freed  |\n",
      "|---------------------------------------------------------------------------|\n",
      "| Allocated memory      |  280135 KB |   13970 MB |   41272 GB |   41272 GB |\n",
      "|       from large pool |  227072 KB |   13917 MB |   41232 GB |   41231 GB |\n",
      "|       from small pool |   53063 KB |     145 MB |      40 GB |      40 GB |\n",
      "|---------------------------------------------------------------------------|\n",
      "| Active memory         |  280135 KB |   13970 MB |   41272 GB |   41272 GB |\n",
      "|       from large pool |  227072 KB |   13917 MB |   41232 GB |   41231 GB |\n",
      "|       from small pool |   53063 KB |     145 MB |      40 GB |      40 GB |\n",
      "|---------------------------------------------------------------------------|\n",
      "| GPU reserved memory   |    1110 MB |   14196 MB |   12001 GB |   12000 GB |\n",
      "|       from large pool |    1010 MB |   14142 MB |   11999 GB |   11998 GB |\n",
      "|       from small pool |     100 MB |     146 MB |       2 GB |       2 GB |\n",
      "|---------------------------------------------------------------------------|\n",
      "| Non-releasable memory |     790 MB |    2627 MB |   12273 GB |   12272 GB |\n",
      "|       from large pool |     788 MB |    2625 MB |   12232 GB |   12231 GB |\n",
      "|       from small pool |       2 MB |       3 MB |      41 GB |      41 GB |\n",
      "|---------------------------------------------------------------------------|\n",
      "| Allocations           |     642    |     976    |    1047 K  |    1047 K  |\n",
      "|       from large pool |      51    |     261    |     620 K  |     620 K  |\n",
      "|       from small pool |     591    |     765    |     427 K  |     427 K  |\n",
      "|---------------------------------------------------------------------------|\n",
      "| Active allocs         |     642    |     976    |    1047 K  |    1047 K  |\n",
      "|       from large pool |      51    |     261    |     620 K  |     620 K  |\n",
      "|       from small pool |     591    |     765    |     427 K  |     427 K  |\n",
      "|---------------------------------------------------------------------------|\n",
      "| GPU reserved segments |      67    |     180    |  112234    |  112167    |\n",
      "|       from large pool |      17    |     153    |  111149    |  111132    |\n",
      "|       from small pool |      50    |      73    |    1085    |    1035    |\n",
      "|---------------------------------------------------------------------------|\n",
      "| Non-releasable allocs |      21    |      70    |  351457    |  351436    |\n",
      "|       from large pool |      12    |      60    |  195537    |  195525    |\n",
      "|       from small pool |       9    |      13    |  155920    |  155911    |\n",
      "|---------------------------------------------------------------------------|\n",
      "| Oversize allocations  |       0    |       0    |       0    |       0    |\n",
      "|---------------------------------------------------------------------------|\n",
      "| Oversize GPU segments |       0    |       0    |       0    |       0    |\n",
      "|===========================================================================|\n",
      "\n"
     ]
    }
   ],
   "source": [
    "print(torch.cuda.memory_summary())"
   ]
  },
  {
   "cell_type": "code",
   "execution_count": null,
   "id": "a7f1c5dd",
   "metadata": {
    "papermill": {
     "duration": 0.010893,
     "end_time": "2022-08-22T10:51:31.996387",
     "exception": false,
     "start_time": "2022-08-22T10:51:31.985494",
     "status": "completed"
    },
    "tags": []
   },
   "outputs": [],
   "source": []
  }
 ],
 "metadata": {
  "kernelspec": {
   "display_name": "Python 3",
   "language": "python",
   "name": "python3"
  },
  "language_info": {
   "codemirror_mode": {
    "name": "ipython",
    "version": 3
   },
   "file_extension": ".py",
   "mimetype": "text/x-python",
   "name": "python",
   "nbconvert_exporter": "python",
   "pygments_lexer": "ipython3",
   "version": "3.7.12"
  },
  "papermill": {
   "default_parameters": {},
   "duration": 1775.144649,
   "end_time": "2022-08-22T10:51:34.240165",
   "environment_variables": {},
   "exception": null,
   "input_path": "__notebook__.ipynb",
   "output_path": "__notebook__.ipynb",
   "parameters": {},
   "start_time": "2022-08-22T10:21:59.095516",
   "version": "2.3.4"
  }
 },
 "nbformat": 4,
 "nbformat_minor": 5
}
