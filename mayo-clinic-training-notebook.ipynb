{
 "cells": [
  {
   "cell_type": "markdown",
   "id": "a5371771",
   "metadata": {
    "papermill": {
     "duration": 0.007399,
     "end_time": "2022-08-21T21:09:39.716753",
     "exception": false,
     "start_time": "2022-08-21T21:09:39.709354",
     "status": "completed"
    },
    "tags": []
   },
   "source": [
    "# Library"
   ]
  },
  {
   "cell_type": "code",
   "execution_count": 1,
   "id": "a949d599",
   "metadata": {
    "_cell_guid": "b1076dfc-b9ad-4769-8c92-a6c4dae69d19",
    "_uuid": "8f2839f25d086af736a60e9eeb907d3b93b6e0e5",
    "execution": {
     "iopub.execute_input": "2022-08-21T21:09:39.731150Z",
     "iopub.status.busy": "2022-08-21T21:09:39.730609Z",
     "iopub.status.idle": "2022-08-21T21:09:46.126790Z",
     "shell.execute_reply": "2022-08-21T21:09:46.125650Z"
    },
    "papermill": {
     "duration": 6.406771,
     "end_time": "2022-08-21T21:09:46.129642",
     "exception": false,
     "start_time": "2022-08-21T21:09:39.722871",
     "status": "completed"
    },
    "tags": []
   },
   "outputs": [],
   "source": [
    "import sys\n",
    "sys.path.append('../input/pytorch-image-models/pytorch-image-models-master')\n",
    "\n",
    "import IPython.display\n",
    "\n",
    "import os\n",
    "import math\n",
    "import time\n",
    "import random\n",
    "import shutil\n",
    "from pathlib import Path\n",
    "from contextlib import contextmanager\n",
    "from collections import defaultdict, Counter\n",
    "from PIL import Image\n",
    "from glob import glob\n",
    "import scipy as sp\n",
    "import numpy as np\n",
    "import pandas as pd\n",
    "#import Pyvips\n",
    "\n",
    "from sklearn import preprocessing\n",
    "from sklearn.metrics import roc_auc_score\n",
    "from sklearn.model_selection import StratifiedKFold, GroupKFold, KFold, train_test_split\n",
    "from skimage.filters import sobel\n",
    "from skimage import segmentation\n",
    "from skimage.color import label2rgb\n",
    "from skimage.color import rgb2hed, hed2rgb\n",
    "from skimage.exposure import rescale_intensity\n",
    "from skimage.measure import regionprops, regionprops_table\n",
    "from mpl_toolkits.axes_grid1 import ImageGrid\n",
    "from sklearn.preprocessing import StandardScaler\n",
    "from scipy import ndimage as ndi\n",
    "from matplotlib.patches import Rectangle\n",
    "from pytorch_lightning.callbacks.early_stopping import EarlyStopping\n",
    "\n",
    "\n",
    "\n",
    "import torchvision\n",
    "\n",
    "from tqdm.auto import tqdm\n",
    "from tqdm import trange\n",
    "from time import sleep\n",
    "from functools import partial\n",
    "import tifffile as tiff\n",
    "\n",
    "import cv2 as cv\n",
    "from openslide import OpenSlide\n",
    "import seaborn as sns\n",
    "from matplotlib import pyplot as plt\n",
    "from pprint import pprint\n",
    "\n",
    "import torch\n",
    "import torch.nn as nn\n",
    "import torch.nn.functional as F\n",
    "from torch.optim import Adam, SGD\n",
    "import torchvision.models as models\n",
    "from torch.nn.parameter import Parameter\n",
    "from torch.utils.data import DataLoader, Dataset\n",
    "from torch.optim.lr_scheduler import CosineAnnealingWarmRestarts, CosineAnnealingLR, ReduceLROnPlateau\n",
    "import torchvision.transforms as transforms\n",
    "import torch.optim as optim\n",
    "import gc\n",
    "import torchvision.models as models\n",
    "import copy\n",
    "\n",
    "\n",
    "OUTPUT_DIR = './'\n",
    "if not os.path.exists(OUTPUT_DIR):\n",
    "    os.makedirs(OUTPUT_DIR)\n",
    "\n",
    "from torch.cuda.amp import autocast, GradScaler\n",
    "Image.MAX_IMAGE_PIXELS = None\n",
    "import warnings\n",
    "warnings.filterwarnings('ignore')\n",
    "\n",
    "device = torch.device('cuda' if torch.cuda.is_available() else 'cpu')\n"
   ]
  },
  {
   "cell_type": "markdown",
   "id": "27a4858b",
   "metadata": {
    "papermill": {
     "duration": 0.00585,
     "end_time": "2022-08-21T21:09:46.141896",
     "exception": false,
     "start_time": "2022-08-21T21:09:46.136046",
     "status": "completed"
    },
    "tags": []
   },
   "source": [
    "# Loading data"
   ]
  },
  {
   "cell_type": "code",
   "execution_count": 2,
   "id": "a986aff7",
   "metadata": {
    "execution": {
     "iopub.execute_input": "2022-08-21T21:09:46.155768Z",
     "iopub.status.busy": "2022-08-21T21:09:46.155127Z",
     "iopub.status.idle": "2022-08-21T21:09:46.184097Z",
     "shell.execute_reply": "2022-08-21T21:09:46.183189Z"
    },
    "papermill": {
     "duration": 0.038314,
     "end_time": "2022-08-21T21:09:46.186134",
     "exception": false,
     "start_time": "2022-08-21T21:09:46.147820",
     "status": "completed"
    },
    "tags": []
   },
   "outputs": [],
   "source": [
    "transformed_train = pd.read_csv('../input/mayo-clinic-output/new_train.csv')\n",
    "test = pd.read_csv('../input/mayo-clinic-strip-ai/test.csv')\n",
    "train, valid = train_test_split(transformed_train, test_size=0.2)\n",
    "classes_name = [\"LAA\",\"CE\"]\n",
    "\n"
   ]
  },
  {
   "cell_type": "markdown",
   "id": "9fb679f3",
   "metadata": {
    "papermill": {
     "duration": 0.00563,
     "end_time": "2022-08-21T21:09:46.197713",
     "exception": false,
     "start_time": "2022-08-21T21:09:46.192083",
     "status": "completed"
    },
    "tags": []
   },
   "source": [
    "# Test Transformation "
   ]
  },
  {
   "cell_type": "code",
   "execution_count": 3,
   "id": "fd324ffa",
   "metadata": {
    "execution": {
     "iopub.execute_input": "2022-08-21T21:09:46.211577Z",
     "iopub.status.busy": "2022-08-21T21:09:46.210644Z",
     "iopub.status.idle": "2022-08-21T21:09:46.216135Z",
     "shell.execute_reply": "2022-08-21T21:09:46.215268Z"
    },
    "papermill": {
     "duration": 0.014629,
     "end_time": "2022-08-21T21:09:46.218113",
     "exception": false,
     "start_time": "2022-08-21T21:09:46.203484",
     "status": "completed"
    },
    "tags": []
   },
   "outputs": [],
   "source": [
    "def rezie_image(image):\n",
    "    resized_image = cv.resize(image,(int(image.shape[1]/33),int(image.shape[0]/33)),interpolation= cv.INTER_LINEAR)\n",
    "    return resized_image\n"
   ]
  },
  {
   "cell_type": "code",
   "execution_count": 4,
   "id": "cdb14d1f",
   "metadata": {
    "execution": {
     "iopub.execute_input": "2022-08-21T21:09:46.231509Z",
     "iopub.status.busy": "2022-08-21T21:09:46.230613Z",
     "iopub.status.idle": "2022-08-21T21:09:46.235569Z",
     "shell.execute_reply": "2022-08-21T21:09:46.234720Z"
    },
    "papermill": {
     "duration": 0.013653,
     "end_time": "2022-08-21T21:09:46.237481",
     "exception": false,
     "start_time": "2022-08-21T21:09:46.223828",
     "status": "completed"
    },
    "tags": []
   },
   "outputs": [],
   "source": [
    "def grey_resize(image):\n",
    "    gray_resized_image = cv.cvtColor(image, cv.COLOR_RGB2GRAY)    \n",
    "    return gray_resized_image\n"
   ]
  },
  {
   "cell_type": "code",
   "execution_count": 5,
   "id": "ac644631",
   "metadata": {
    "execution": {
     "iopub.execute_input": "2022-08-21T21:09:46.251440Z",
     "iopub.status.busy": "2022-08-21T21:09:46.250681Z",
     "iopub.status.idle": "2022-08-21T21:09:46.256667Z",
     "shell.execute_reply": "2022-08-21T21:09:46.255836Z"
    },
    "papermill": {
     "duration": 0.015343,
     "end_time": "2022-08-21T21:09:46.258573",
     "exception": false,
     "start_time": "2022-08-21T21:09:46.243230",
     "status": "completed"
    },
    "tags": []
   },
   "outputs": [],
   "source": [
    "def labeled_segment(grey_resized_image):\n",
    "    elevation_map = sobel(grey_resized_image)\n",
    "    markers = np.zeros_like(grey_resized_image)\n",
    "    markers[grey_resized_image >= grey_resized_image.mean()] = 1\n",
    "    markers[grey_resized_image < grey_resized_image.mean()] = 2\n",
    "    segmented_img = segmentation.watershed(elevation_map, markers)\n",
    "    filled_segments = ndi.binary_fill_holes(segmented_img - 1)\n",
    "    labeled_segments, _ = ndi.label(filled_segments)\n",
    "    return labeled_segments\n"
   ]
  },
  {
   "cell_type": "code",
   "execution_count": 6,
   "id": "8e272c07",
   "metadata": {
    "execution": {
     "iopub.execute_input": "2022-08-21T21:09:46.271410Z",
     "iopub.status.busy": "2022-08-21T21:09:46.270695Z",
     "iopub.status.idle": "2022-08-21T21:09:46.275767Z",
     "shell.execute_reply": "2022-08-21T21:09:46.274880Z"
    },
    "papermill": {
     "duration": 0.013589,
     "end_time": "2022-08-21T21:09:46.277799",
     "exception": false,
     "start_time": "2022-08-21T21:09:46.264210",
     "status": "completed"
    },
    "tags": []
   },
   "outputs": [],
   "source": [
    "def plot_labeled_segments(labeled_segments, resized_gray_img):\n",
    "    image_label_overlay = label2rgb(labeled_segments, image=resized_gray_img, bg_label=0)\n",
    "    fig, ax = plt.subplots(figsize=(10, 8))\n",
    "    ax.imshow(image_label_overlay, cmap=plt.cm.gray)\n",
    "    ax.set_title('segmentation')\n",
    "    ax.axis('off')\n"
   ]
  },
  {
   "cell_type": "code",
   "execution_count": 7,
   "id": "fbef60fd",
   "metadata": {
    "execution": {
     "iopub.execute_input": "2022-08-21T21:09:46.291152Z",
     "iopub.status.busy": "2022-08-21T21:09:46.290495Z",
     "iopub.status.idle": "2022-08-21T21:09:46.297643Z",
     "shell.execute_reply": "2022-08-21T21:09:46.296810Z"
    },
    "papermill": {
     "duration": 0.015569,
     "end_time": "2022-08-21T21:09:46.299579",
     "exception": false,
     "start_time": "2022-08-21T21:09:46.284010",
     "status": "completed"
    },
    "tags": []
   },
   "outputs": [],
   "source": [
    "def get_object_coordinates(labeled_segments):\n",
    "    properties =['area','bbox','convex_area','bbox_area', 'major_axis_length', 'minor_axis_length', 'eccentricity']\n",
    "    df = pd.DataFrame(regionprops_table(labeled_segments, properties=properties))\n",
    "    standard_scaler = StandardScaler()\n",
    "    scaled_area = standard_scaler.fit_transform(df.area.values.reshape(-1,1))\n",
    "    df['scaled_area'] = scaled_area\n",
    "    df.sort_values(by=\"scaled_area\", ascending=False, inplace=True)\n",
    "    objects = df[df['scaled_area']>=.75]\n",
    "    object_coordinates = [(row['bbox-0'],row['bbox-1'],row['bbox-2'],row['bbox-3'] )for index, row in objects.iterrows()]\n",
    "    return object_coordinates\n"
   ]
  },
  {
   "cell_type": "code",
   "execution_count": 8,
   "id": "78b5db41",
   "metadata": {
    "execution": {
     "iopub.execute_input": "2022-08-21T21:09:46.312363Z",
     "iopub.status.busy": "2022-08-21T21:09:46.312101Z",
     "iopub.status.idle": "2022-08-21T21:09:46.317512Z",
     "shell.execute_reply": "2022-08-21T21:09:46.316619Z"
    },
    "papermill": {
     "duration": 0.014142,
     "end_time": "2022-08-21T21:09:46.319483",
     "exception": false,
     "start_time": "2022-08-21T21:09:46.305341",
     "status": "completed"
    },
    "tags": []
   },
   "outputs": [],
   "source": [
    "def plot_object_coordinates(object_coordinates, resized_image):\n",
    "    fig, ax = plt.subplots(1,1, figsize=(18, 16), dpi = 80)\n",
    "    for blob in object_coordinates:\n",
    "        width = blob[3] - blob[1]\n",
    "        height = blob[2] - blob[0]\n",
    "        patch = Rectangle((blob[1],blob[0]), width, height, edgecolor='r', facecolor='none')\n"
   ]
  },
  {
   "cell_type": "code",
   "execution_count": 9,
   "id": "7e704bcf",
   "metadata": {
    "execution": {
     "iopub.execute_input": "2022-08-21T21:09:46.332571Z",
     "iopub.status.busy": "2022-08-21T21:09:46.331904Z",
     "iopub.status.idle": "2022-08-21T21:09:46.338267Z",
     "shell.execute_reply": "2022-08-21T21:09:46.337292Z"
    },
    "papermill": {
     "duration": 0.015011,
     "end_time": "2022-08-21T21:09:46.340203",
     "exception": false,
     "start_time": "2022-08-21T21:09:46.325192",
     "status": "completed"
    },
    "tags": []
   },
   "outputs": [],
   "source": [
    "def save_objects(object_coordinates, image, image_name, count):\n",
    "    plt.figure(figsize=(10,18))\n",
    "    for i in range(len(object_coordinates)):\n",
    "        coordinates = object_coordinates[i]\n",
    "        object_image = image[int(coordinates[0]):int(coordinates[2]), int(coordinates[1]):int(coordinates[3])]\n",
    "        image_new_name = image_name + \"_\" + str(i)\n",
    "        new_test[\"image_name\"].append(image_new_name)\n",
    "        new_test[\"image_count\"].append(count)\n",
    "        cv.imwrite(os.path.join(\"./\", f\"{image_new_name}.jpg\"), object_image)\n"
   ]
  },
  {
   "cell_type": "code",
   "execution_count": 10,
   "id": "deab8e92",
   "metadata": {
    "execution": {
     "iopub.execute_input": "2022-08-21T21:09:46.353733Z",
     "iopub.status.busy": "2022-08-21T21:09:46.352963Z",
     "iopub.status.idle": "2022-08-21T21:11:04.012634Z",
     "shell.execute_reply": "2022-08-21T21:11:04.011731Z"
    },
    "papermill": {
     "duration": 77.675706,
     "end_time": "2022-08-21T21:11:04.022110",
     "exception": false,
     "start_time": "2022-08-21T21:09:46.346404",
     "status": "completed"
    },
    "tags": []
   },
   "outputs": [
    {
     "data": {
      "text/plain": [
       "<Figure size 720x1296 with 0 Axes>"
      ]
     },
     "metadata": {},
     "output_type": "display_data"
    },
    {
     "data": {
      "text/plain": [
       "<Figure size 720x1296 with 0 Axes>"
      ]
     },
     "metadata": {},
     "output_type": "display_data"
    },
    {
     "data": {
      "text/plain": [
       "<Figure size 720x1296 with 0 Axes>"
      ]
     },
     "metadata": {},
     "output_type": "display_data"
    },
    {
     "data": {
      "text/plain": [
       "<Figure size 720x1296 with 0 Axes>"
      ]
     },
     "metadata": {},
     "output_type": "display_data"
    }
   ],
   "source": [
    "test_path = \"../input/mayo-clinic-strip-ai/test\"\n",
    "Image_names = test['image_id'].values\n",
    "new_test={\"image_count\":[],\"image_name\":[]}\n",
    "count = 1\n",
    "scale = 4\n",
    "for image_name in Image_names:\n",
    "    image = tiff.imread(os.path.join(test_path, f\"{image_name}.tif\"))\n",
    "    resized_image=rezie_image(image)\n",
    "    del image\n",
    "    gc.collect()\n",
    "    grey_resized_image = grey_resize(resized_image)\n",
    "    labeled_segments = labeled_segment(grey_resized_image)\n",
    "    object_coordinates = get_object_coordinates(labeled_segments)\n",
    "    save_objects(object_coordinates, resized_image, image_name,count)\n",
    "    \n",
    "new_test=pd.DataFrame.from_dict(new_test)\n"
   ]
  },
  {
   "cell_type": "markdown",
   "id": "4633aae5",
   "metadata": {
    "papermill": {
     "duration": 0.006213,
     "end_time": "2022-08-21T21:11:04.034452",
     "exception": false,
     "start_time": "2022-08-21T21:11:04.028239",
     "status": "completed"
    },
    "tags": []
   },
   "source": [
    "# Data Loader"
   ]
  },
  {
   "cell_type": "code",
   "execution_count": 11,
   "id": "9a365182",
   "metadata": {
    "execution": {
     "iopub.execute_input": "2022-08-21T21:11:04.048674Z",
     "iopub.status.busy": "2022-08-21T21:11:04.047893Z",
     "iopub.status.idle": "2022-08-21T21:11:04.056954Z",
     "shell.execute_reply": "2022-08-21T21:11:04.056082Z"
    },
    "papermill": {
     "duration": 0.018497,
     "end_time": "2022-08-21T21:11:04.058962",
     "exception": false,
     "start_time": "2022-08-21T21:11:04.040465",
     "status": "completed"
    },
    "tags": []
   },
   "outputs": [],
   "source": [
    "class TrainDataset(Dataset):\n",
    "    def __init__(self, path, df,phase, transform=None):\n",
    "        self.df = df\n",
    "        self.path = path\n",
    "        self.Image_names = df['image_name'].values\n",
    "        self.phase = phase\n",
    "        if phase ==\"train\":\n",
    "            self.labels = df['label'].values\n",
    "        self.transform = transform\n",
    "        \n",
    "    def __len__(self):\n",
    "        return len(self.df)\n",
    "\n",
    "    def __getitem__(self, idx):\n",
    "        file_name = self.Image_names[idx]\n",
    "        img= Image.open(os.path.join(self.path, f\"{file_name}.jpg\"))\n",
    "        if self.transform:\n",
    "            image=self.transform(img)\n",
    "        if self.phase ==\"train\":\n",
    "            label = self.labels[idx]\n",
    "            return image, torch.tensor(label), file_name\n",
    "        else:\n",
    "            return image, file_name\n",
    "        "
   ]
  },
  {
   "cell_type": "markdown",
   "id": "39a01a64",
   "metadata": {
    "papermill": {
     "duration": 0.006294,
     "end_time": "2022-08-21T21:11:04.071503",
     "exception": false,
     "start_time": "2022-08-21T21:11:04.065209",
     "status": "completed"
    },
    "tags": []
   },
   "source": [
    "# Transforms"
   ]
  },
  {
   "cell_type": "code",
   "execution_count": 12,
   "id": "f34db0bc",
   "metadata": {
    "execution": {
     "iopub.execute_input": "2022-08-21T21:11:04.084994Z",
     "iopub.status.busy": "2022-08-21T21:11:04.084346Z",
     "iopub.status.idle": "2022-08-21T21:11:04.093075Z",
     "shell.execute_reply": "2022-08-21T21:11:04.092201Z"
    },
    "papermill": {
     "duration": 0.017592,
     "end_time": "2022-08-21T21:11:04.095080",
     "exception": false,
     "start_time": "2022-08-21T21:11:04.077488",
     "status": "completed"
    },
    "tags": []
   },
   "outputs": [],
   "source": [
    "batch_size=64\n",
    "data_transform = transforms.Compose([\n",
    "        transforms.Resize((256,256)),\n",
    "        transforms.ToTensor(),\n",
    "        transforms.Normalize(mean=[0.485, 0.456, 0.406],\n",
    "                             std=[0.229, 0.224, 0.225])\n",
    "    ])\n",
    "train_dataset = TrainDataset(\"../input/mayo-clinic-output/\", train,phase=\"train\", transform = data_transform)\n",
    "valid_dataset = TrainDataset(\"../input/mayo-clinic-output/\", valid,phase=\"train\", transform = data_transform)\n",
    "test_dataset = TrainDataset(\"./\", new_test,phase=\"test\", transform = data_transform)\n",
    "\n",
    "train_dl = torch.utils.data.DataLoader(train_dataset,\n",
    "                                             batch_size=batch_size, shuffle=True,\n",
    "                                             num_workers=0)\n",
    "valid_dl = torch.utils.data.DataLoader(valid_dataset,\n",
    "                                             batch_size=batch_size, shuffle=True,\n",
    "                                             num_workers=0)\n",
    "test_dl = torch.utils.data.DataLoader(test_dataset,\n",
    "                                             batch_size=1, shuffle=True,\n",
    "                                             num_workers=0)\n"
   ]
  },
  {
   "cell_type": "code",
   "execution_count": 13,
   "id": "8de5ed48",
   "metadata": {
    "execution": {
     "iopub.execute_input": "2022-08-21T21:11:04.108999Z",
     "iopub.status.busy": "2022-08-21T21:11:04.108319Z",
     "iopub.status.idle": "2022-08-21T21:11:04.114971Z",
     "shell.execute_reply": "2022-08-21T21:11:04.114227Z"
    },
    "papermill": {
     "duration": 0.015462,
     "end_time": "2022-08-21T21:11:04.116734",
     "exception": false,
     "start_time": "2022-08-21T21:11:04.101272",
     "status": "completed"
    },
    "tags": []
   },
   "outputs": [],
   "source": [
    "def imshow(axis, inp):\n",
    "    \"\"\"Denormalize and show\"\"\"\n",
    "    inp = inp.numpy().transpose((1, 2, 0))\n",
    "    mean = np.array([0.485, 0.456, 0.406])\n",
    "    std = np.array([0.229, 0.224, 0.225])\n",
    "    inp = std * inp + mean\n",
    "    axis.imshow(inp)\n"
   ]
  },
  {
   "cell_type": "markdown",
   "id": "50ec670c",
   "metadata": {
    "papermill": {
     "duration": 0.005796,
     "end_time": "2022-08-21T21:11:04.128746",
     "exception": false,
     "start_time": "2022-08-21T21:11:04.122950",
     "status": "completed"
    },
    "tags": []
   },
   "source": [
    "# PreTrained Model"
   ]
  },
  {
   "cell_type": "code",
   "execution_count": 14,
   "id": "65b91987",
   "metadata": {
    "execution": {
     "iopub.execute_input": "2022-08-21T21:11:04.142565Z",
     "iopub.status.busy": "2022-08-21T21:11:04.141694Z",
     "iopub.status.idle": "2022-08-21T21:11:08.824564Z",
     "shell.execute_reply": "2022-08-21T21:11:08.823602Z"
    },
    "papermill": {
     "duration": 4.692203,
     "end_time": "2022-08-21T21:11:08.827006",
     "exception": false,
     "start_time": "2022-08-21T21:11:04.134803",
     "status": "completed"
    },
    "tags": []
   },
   "outputs": [],
   "source": [
    "use_gpu = torch.cuda.is_available()\n",
    "model_ft = torchvision.models.resnet50(pretrained=False)\n",
    "model_ft.load_state_dict(torch.load(\"../input/pretrained-model-weights-pytorch/resnet50-19c8e357.pth\"))\n",
    "#model_ft = models.resnet50(pretrained=True)\n",
    "num_ftrs = model_ft.fc.in_features\n",
    "model_ft.fc = nn.Linear(num_ftrs, 2)\n",
    "model_ft=model_ft.to(device)\n",
    "\n",
    "criterion = nn.CrossEntropyLoss()\n",
    "optimizer = optim.SGD(model_ft.parameters(), lr=0.01, momentum=0.9)\n",
    "exp_lr_scheduler = torch.optim.lr_scheduler.StepLR(optimizer, step_size=7, gamma=0.1)\n",
    "\n"
   ]
  },
  {
   "cell_type": "markdown",
   "id": "3e2df0ba",
   "metadata": {
    "papermill": {
     "duration": 0.006027,
     "end_time": "2022-08-21T21:11:08.839481",
     "exception": false,
     "start_time": "2022-08-21T21:11:08.833454",
     "status": "completed"
    },
    "tags": []
   },
   "source": [
    "# Training"
   ]
  },
  {
   "cell_type": "code",
   "execution_count": 15,
   "id": "0985cb42",
   "metadata": {
    "execution": {
     "iopub.execute_input": "2022-08-21T21:11:08.853102Z",
     "iopub.status.busy": "2022-08-21T21:11:08.852773Z",
     "iopub.status.idle": "2022-08-21T21:11:08.864395Z",
     "shell.execute_reply": "2022-08-21T21:11:08.863449Z"
    },
    "papermill": {
     "duration": 0.020733,
     "end_time": "2022-08-21T21:11:08.866376",
     "exception": false,
     "start_time": "2022-08-21T21:11:08.845643",
     "status": "completed"
    },
    "tags": []
   },
   "outputs": [],
   "source": [
    "def train_model(dataloders, model, criterion, optimizer, scheduler, num_epochs=25):\n",
    "    since = time.time()\n",
    "    best_model_wts = model.state_dict()\n",
    "    best_acc = 0.0\n",
    "    dataset_sizes = {'train': len(dataloders['train'].dataset), \n",
    "                     'valid': len(dataloders['valid'].dataset)}\n",
    "\n",
    "    for epoch in range(num_epochs):\n",
    "        for phase in ['train', 'valid']:\n",
    "            if phase == 'train':\n",
    "                scheduler.step()\n",
    "                model.train(True)\n",
    "            else:\n",
    "                model.train(False)\n",
    "\n",
    "            running_loss = 0.0\n",
    "            running_corrects = 0\n",
    "\n",
    "            for inputs, labels, _ in dataloders[phase]:\n",
    "                if use_gpu:\n",
    "                    inputs = inputs.to(device)\n",
    "                    labels = labels.to(device)\n",
    "                else:\n",
    "                    inputs = inputs.to(device)\n",
    "                    labels = labels.to(device)\n",
    "\n",
    "                optimizer.zero_grad()\n",
    "\n",
    "                outputs = model(inputs)\n",
    "                _, preds = torch.max(outputs.data, 1)\n",
    "                loss = criterion(outputs, labels)\n",
    "\n",
    "                if phase == 'train':\n",
    "                    loss.backward()\n",
    "                    optimizer.step()\n",
    "\n",
    "                running_loss += loss.data\n",
    "                running_corrects += torch.sum(preds == labels.data)\n",
    "                del inputs, labels\n",
    "                gc.collect()\n",
    "            \n",
    "            if phase == 'train':\n",
    "                train_epoch_loss = running_loss / dataset_sizes[phase]\n",
    "                train_epoch_acc = running_corrects / dataset_sizes[phase]\n",
    "            else:\n",
    "                valid_epoch_loss = running_loss / dataset_sizes[phase]\n",
    "                valid_epoch_acc = running_corrects / dataset_sizes[phase]\n",
    "                \n",
    "            if phase == 'valid' and valid_epoch_acc > best_acc:\n",
    "                best_acc = valid_epoch_acc\n",
    "                best_model_wts = model.state_dict()\n",
    "\n",
    "        print('Epoch [{}/{}] train loss: {:.4f} acc: {:.4f} ' \n",
    "              'valid loss: {:.4f} acc: {:.4f}'.format(\n",
    "                epoch, num_epochs - 1,\n",
    "                train_epoch_loss, train_epoch_acc, \n",
    "                valid_epoch_loss, valid_epoch_acc))\n",
    "            \n",
    "    print('Best val Acc: {:4f}'.format(best_acc))\n",
    "\n",
    "    model.load_state_dict(best_model_wts)\n",
    "    return model"
   ]
  },
  {
   "cell_type": "code",
   "execution_count": 16,
   "id": "d3496745",
   "metadata": {
    "execution": {
     "iopub.execute_input": "2022-08-21T21:11:08.880164Z",
     "iopub.status.busy": "2022-08-21T21:11:08.879868Z",
     "iopub.status.idle": "2022-08-21T21:20:25.426783Z",
     "shell.execute_reply": "2022-08-21T21:20:25.425794Z"
    },
    "papermill": {
     "duration": 556.562935,
     "end_time": "2022-08-21T21:20:25.435662",
     "exception": false,
     "start_time": "2022-08-21T21:11:08.872727",
     "status": "completed"
    },
    "tags": []
   },
   "outputs": [
    {
     "name": "stdout",
     "output_type": "stream",
     "text": [
      "Epoch [0/11] train loss: 0.0125 acc: 0.6297 valid loss: 0.0100 acc: 0.6749\n",
      "Epoch [1/11] train loss: 0.0086 acc: 0.7283 valid loss: 0.0113 acc: 0.5782\n",
      "Epoch [2/11] train loss: 0.0077 acc: 0.7715 valid loss: 0.0107 acc: 0.6493\n",
      "Epoch [3/11] train loss: 0.0063 acc: 0.8274 valid loss: 0.0099 acc: 0.6815\n",
      "Epoch [4/11] train loss: 0.0045 acc: 0.8838 valid loss: 0.0139 acc: 0.7242\n",
      "Epoch [5/11] train loss: 0.0030 acc: 0.9248 valid loss: 0.0117 acc: 0.7261\n",
      "Epoch [6/11] train loss: 0.0010 acc: 0.9844 valid loss: 0.0098 acc: 0.7934\n",
      "Epoch [7/11] train loss: 0.0004 acc: 0.9972 valid loss: 0.0103 acc: 0.8000\n",
      "Epoch [8/11] train loss: 0.0002 acc: 0.9988 valid loss: 0.0105 acc: 0.8076\n",
      "Epoch [9/11] train loss: 0.0001 acc: 0.9993 valid loss: 0.0117 acc: 0.8009\n",
      "Epoch [10/11] train loss: 0.0001 acc: 0.9998 valid loss: 0.0119 acc: 0.8038\n",
      "Epoch [11/11] train loss: 0.0001 acc: 0.9998 valid loss: 0.0119 acc: 0.8057\n",
      "Best val Acc: 0.807583\n",
      "Training time:   9.275694 minutes\n"
     ]
    }
   ],
   "source": [
    "dloaders = {'train':train_dl, 'valid':valid_dl}\n",
    "start_time = time.time()\n",
    "model = train_model(dloaders, model_ft, criterion, optimizer, exp_lr_scheduler, num_epochs=12)\n",
    "del model_ft\n",
    "gc.collect()\n",
    "print('Training time: {:10f} minutes'.format((time.time()-start_time)/60))"
   ]
  },
  {
   "cell_type": "code",
   "execution_count": 17,
   "id": "faf8f2a0",
   "metadata": {
    "execution": {
     "iopub.execute_input": "2022-08-21T21:20:25.450539Z",
     "iopub.status.busy": "2022-08-21T21:20:25.450256Z",
     "iopub.status.idle": "2022-08-21T21:20:25.460448Z",
     "shell.execute_reply": "2022-08-21T21:20:25.459427Z"
    },
    "papermill": {
     "duration": 0.020212,
     "end_time": "2022-08-21T21:20:25.462754",
     "exception": false,
     "start_time": "2022-08-21T21:20:25.442542",
     "status": "completed"
    },
    "tags": []
   },
   "outputs": [],
   "source": [
    "def visualize_model(dataloders, model, num_images=25):\n",
    "    cnt = 0\n",
    "    fig = plt.figure(1, figsize=(20, 20))\n",
    "    grid = ImageGrid(fig, 111, nrows_ncols=(5, 5), axes_pad=0.05)\n",
    "    for i, (inputs, labels, file_name) in enumerate(dataloders['valid']):\n",
    "        if use_gpu:\n",
    "            inputs = inputs.to(device)\n",
    "            labels = labels.to(device)\n",
    "        else:\n",
    "            inputs = inputs.to(device)\n",
    "            labels = labels.to(device)\n",
    "\n",
    "        outputs = model(inputs)\n",
    "        _, preds = torch.max(outputs.data, 1)\n",
    "        sm = torch.nn.Softmax()\n",
    "        probabilities = sm(outputs).tolist()\n",
    "        rounded_prob = [np.round(num, 1) for num in probabilities]\n",
    "        for j in range(inputs.size()[0]):\n",
    "            ax = grid[cnt]\n",
    "            imshow(ax, inputs.cpu().data[j])\n",
    "            ax.text(10, 20, 'ID: {} '.format(file_name[j]),color='k', backgroundcolor='w', alpha=0.8,size=\"small\")\n",
    "            ax.text(10, 230, 'Predicted {} || Actual {}'.format(classes_name[preds[j]], classes_name[labels.data[j]]), \n",
    "                    color='k', backgroundcolor='w', alpha=0.8,size=\"small\")\n",
    "            ax.text(10, 245,rounded_prob[j],color='k', backgroundcolor='w', alpha=0.8,size=\"small\")\n",
    "            cnt += 1\n",
    "            if cnt == num_images:\n",
    "                del inputs, labels\n",
    "                gc.collect()\n",
    "                return"
   ]
  },
  {
   "cell_type": "code",
   "execution_count": 18,
   "id": "04ec61c4",
   "metadata": {
    "execution": {
     "iopub.execute_input": "2022-08-21T21:20:25.477658Z",
     "iopub.status.busy": "2022-08-21T21:20:25.476978Z",
     "iopub.status.idle": "2022-08-21T21:20:25.481566Z",
     "shell.execute_reply": "2022-08-21T21:20:25.480762Z"
    },
    "papermill": {
     "duration": 0.014363,
     "end_time": "2022-08-21T21:20:25.483815",
     "exception": false,
     "start_time": "2022-08-21T21:20:25.469452",
     "status": "completed"
    },
    "tags": []
   },
   "outputs": [],
   "source": [
    "#visualize_model(dloaders, model)\n"
   ]
  },
  {
   "cell_type": "markdown",
   "id": "be0c26da",
   "metadata": {
    "papermill": {
     "duration": 0.006815,
     "end_time": "2022-08-21T21:20:25.497607",
     "exception": false,
     "start_time": "2022-08-21T21:20:25.490792",
     "status": "completed"
    },
    "tags": []
   },
   "source": [
    "# Submission"
   ]
  },
  {
   "cell_type": "code",
   "execution_count": 19,
   "id": "6fbabea9",
   "metadata": {
    "execution": {
     "iopub.execute_input": "2022-08-21T21:20:25.514904Z",
     "iopub.status.busy": "2022-08-21T21:20:25.513286Z",
     "iopub.status.idle": "2022-08-21T21:20:25.523578Z",
     "shell.execute_reply": "2022-08-21T21:20:25.522706Z"
    },
    "papermill": {
     "duration": 0.020855,
     "end_time": "2022-08-21T21:20:25.525637",
     "exception": false,
     "start_time": "2022-08-21T21:20:25.504782",
     "status": "completed"
    },
    "tags": []
   },
   "outputs": [],
   "source": [
    "def submission(dataloders, model):\n",
    "    prob_data = {\"ID\":[],\"prob\":[]}\n",
    "    if dataloders ==dloaders:\n",
    "        dataloders = dataloders['valid']\n",
    "        \n",
    "    for i, (inputs, file_name) in enumerate(dataloders):\n",
    "        if use_gpu:\n",
    "            inputs = inputs.to(device)\n",
    "            \n",
    "        outputs = model(inputs)\n",
    "        _, preds = torch.max(outputs.data, 1)\n",
    "        sm = torch.nn.Softmax()\n",
    "        probabilities = sm(outputs).tolist()\n",
    "        rounded_prob = [np.round(num, 1) for num in probabilities]\n",
    "        \n",
    "        for i in range(inputs.size()[0]):\n",
    "            prob_data[\"ID\"].append(file_name[i])\n",
    "            prob_data[\"prob\"].append(rounded_prob[i])\n",
    "            \n",
    "        del inputs\n",
    "        gc.collect()\n",
    "    prob_data= pd.DataFrame.from_dict(prob_data)\n",
    "    prob_data['patient_id'], prob_data['image_nu'],prob_data['split_nu'] = prob_data['ID'].str.split('_').str\n",
    "    prob_data[['LAA','CE']] = pd.DataFrame(prob_data.prob.tolist(), index= prob_data.index)\n",
    "    prob_data_submission = prob_data.drop(['ID', 'prob','image_nu','split_nu'], axis=1)\n",
    "    avg = prob_data_submission.groupby('patient_id',as_index=False).mean()\n",
    "    avg = avg[['patient_id','CE','LAA']]\n",
    "    return avg\n",
    "    "
   ]
  },
  {
   "cell_type": "code",
   "execution_count": 20,
   "id": "6fd33597",
   "metadata": {
    "execution": {
     "iopub.execute_input": "2022-08-21T21:20:25.541124Z",
     "iopub.status.busy": "2022-08-21T21:20:25.540575Z",
     "iopub.status.idle": "2022-08-21T21:20:33.277867Z",
     "shell.execute_reply": "2022-08-21T21:20:33.276903Z"
    },
    "papermill": {
     "duration": 7.747897,
     "end_time": "2022-08-21T21:20:33.280411",
     "exception": false,
     "start_time": "2022-08-21T21:20:25.532514",
     "status": "completed"
    },
    "tags": []
   },
   "outputs": [],
   "source": [
    "sub=submission(test_dl, model)\n"
   ]
  },
  {
   "cell_type": "code",
   "execution_count": 21,
   "id": "749e99e0",
   "metadata": {
    "execution": {
     "iopub.execute_input": "2022-08-21T21:20:33.296904Z",
     "iopub.status.busy": "2022-08-21T21:20:33.296587Z",
     "iopub.status.idle": "2022-08-21T21:20:33.303741Z",
     "shell.execute_reply": "2022-08-21T21:20:33.302820Z"
    },
    "papermill": {
     "duration": 0.01742,
     "end_time": "2022-08-21T21:20:33.305716",
     "exception": false,
     "start_time": "2022-08-21T21:20:33.288296",
     "status": "completed"
    },
    "tags": []
   },
   "outputs": [],
   "source": [
    "sub.to_csv('submission.csv',index=False)\n"
   ]
  },
  {
   "cell_type": "code",
   "execution_count": 22,
   "id": "fd20ff86",
   "metadata": {
    "execution": {
     "iopub.execute_input": "2022-08-21T21:20:33.320705Z",
     "iopub.status.busy": "2022-08-21T21:20:33.320438Z",
     "iopub.status.idle": "2022-08-21T21:20:33.325840Z",
     "shell.execute_reply": "2022-08-21T21:20:33.324906Z"
    },
    "papermill": {
     "duration": 0.016088,
     "end_time": "2022-08-21T21:20:33.328715",
     "exception": false,
     "start_time": "2022-08-21T21:20:33.312627",
     "status": "completed"
    },
    "tags": []
   },
   "outputs": [
    {
     "name": "stdout",
     "output_type": "stream",
     "text": [
      "|===========================================================================|\n",
      "|                  PyTorch CUDA memory summary, device ID 0                 |\n",
      "|---------------------------------------------------------------------------|\n",
      "|            CUDA OOMs: 0            |        cudaMalloc retries: 0         |\n",
      "|===========================================================================|\n",
      "|        Metric         | Cur Usage  | Peak Usage | Tot Alloc  | Tot Freed  |\n",
      "|---------------------------------------------------------------------------|\n",
      "| Allocated memory      |  280135 KB |   13970 MB |   23702 GB |   23702 GB |\n",
      "|       from large pool |  227072 KB |   13917 MB |   23678 GB |   23678 GB |\n",
      "|       from small pool |   53063 KB |     145 MB |      24 GB |      24 GB |\n",
      "|---------------------------------------------------------------------------|\n",
      "| Active memory         |  280135 KB |   13970 MB |   23702 GB |   23702 GB |\n",
      "|       from large pool |  227072 KB |   13917 MB |   23678 GB |   23678 GB |\n",
      "|       from small pool |   53063 KB |     145 MB |      24 GB |      24 GB |\n",
      "|---------------------------------------------------------------------------|\n",
      "| GPU reserved memory   |   14524 MB |   14524 MB |   14524 MB |       0 B  |\n",
      "|       from large pool |   14378 MB |   14378 MB |   14378 MB |       0 B  |\n",
      "|       from small pool |     146 MB |     146 MB |     146 MB |       0 B  |\n",
      "|---------------------------------------------------------------------------|\n",
      "| Non-releasable memory |     790 MB |    2557 MB |    4648 GB |    4647 GB |\n",
      "|       from large pool |     788 MB |    2556 MB |    4623 GB |    4622 GB |\n",
      "|       from small pool |       2 MB |       3 MB |      25 GB |      25 GB |\n",
      "|---------------------------------------------------------------------------|\n",
      "| Allocations           |     642    |     976    |  604454    |  603812    |\n",
      "|       from large pool |      51    |     261    |  356596    |  356545    |\n",
      "|       from small pool |     591    |     765    |  247858    |  247267    |\n",
      "|---------------------------------------------------------------------------|\n",
      "| Active allocs         |     642    |     976    |  604454    |  603812    |\n",
      "|       from large pool |      51    |     261    |  356596    |  356545    |\n",
      "|       from small pool |     591    |     765    |  247858    |  247267    |\n",
      "|---------------------------------------------------------------------------|\n",
      "| GPU reserved segments |     214    |     214    |     214    |       0    |\n",
      "|       from large pool |     141    |     141    |     141    |       0    |\n",
      "|       from small pool |      73    |      73    |      73    |       0    |\n",
      "|---------------------------------------------------------------------------|\n",
      "| Non-releasable allocs |      21    |     101    |  198594    |  198573    |\n",
      "|       from large pool |      12    |      96    |  107605    |  107593    |\n",
      "|       from small pool |       9    |      14    |   90989    |   90980    |\n",
      "|---------------------------------------------------------------------------|\n",
      "| Oversize allocations  |       0    |       0    |       0    |       0    |\n",
      "|---------------------------------------------------------------------------|\n",
      "| Oversize GPU segments |       0    |       0    |       0    |       0    |\n",
      "|===========================================================================|\n",
      "\n"
     ]
    }
   ],
   "source": [
    "print(torch.cuda.memory_summary())"
   ]
  },
  {
   "cell_type": "code",
   "execution_count": null,
   "id": "aea444e2",
   "metadata": {
    "papermill": {
     "duration": 0.006697,
     "end_time": "2022-08-21T21:20:33.342617",
     "exception": false,
     "start_time": "2022-08-21T21:20:33.335920",
     "status": "completed"
    },
    "tags": []
   },
   "outputs": [],
   "source": []
  }
 ],
 "metadata": {
  "kernelspec": {
   "display_name": "Python 3",
   "language": "python",
   "name": "python3"
  },
  "language_info": {
   "codemirror_mode": {
    "name": "ipython",
    "version": 3
   },
   "file_extension": ".py",
   "mimetype": "text/x-python",
   "name": "python",
   "nbconvert_exporter": "python",
   "pygments_lexer": "ipython3",
   "version": "3.7.12"
  },
  "papermill": {
   "default_parameters": {},
   "duration": 663.661775,
   "end_time": "2022-08-21T21:20:35.521307",
   "environment_variables": {},
   "exception": null,
   "input_path": "__notebook__.ipynb",
   "output_path": "__notebook__.ipynb",
   "parameters": {},
   "start_time": "2022-08-21T21:09:31.859532",
   "version": "2.3.4"
  }
 },
 "nbformat": 4,
 "nbformat_minor": 5
}
